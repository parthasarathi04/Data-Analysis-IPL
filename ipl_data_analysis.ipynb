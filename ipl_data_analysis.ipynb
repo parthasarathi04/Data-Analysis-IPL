{
  "nbformat": 4,
  "nbformat_minor": 0,
  "metadata": {
    "colab": {
      "name": "ipl_data_analysis.ipynb",
      "provenance": [],
      "collapsed_sections": [
        "9_gs2wpzCTa1",
        "HOfxTUzn_wiG",
        "Yu3OyIcF6ado"
      ],
      "mount_file_id": "1saqJ9kyfzZkwRY0WZcs9zIMnUwEVMEN2",
      "authorship_tag": "ABX9TyN8UXu3LqiP8Ww7l6JegdrB",
      "include_colab_link": true
    },
    "kernelspec": {
      "display_name": "Python 3",
      "name": "python3"
    },
    "language_info": {
      "name": "python"
    }
  },
  "cells": [
    {
      "cell_type": "markdown",
      "metadata": {
        "id": "view-in-github",
        "colab_type": "text"
      },
      "source": [
        "<a href=\"https://colab.research.google.com/github/parthasarathi04/Data-Analysis-IPL/blob/main_branch/ipl_data_analysis.ipynb\" target=\"_parent\"><img src=\"https://colab.research.google.com/assets/colab-badge.svg\" alt=\"Open In Colab\"/></a>"
      ]
    },
    {
      "cell_type": "markdown",
      "metadata": {
        "id": "DBSDWMw5tksU"
      },
      "source": [
        "#**Data Science & Business Analytics**\n",
        "**#5 Tasks Exploratory Data Analysis - Sports\n",
        "(Level - Advanced)**"
      ]
    },
    {
      "cell_type": "markdown",
      "metadata": {
        "id": "pC6Q2Zwlz5n_"
      },
      "source": [
        "# **Exploratory Data Analysis on IPL Dataset**\n",
        "\n",
        "#     Author : Partha Sarathi Bhunia\n",
        "\n",
        "\n",
        "---\n",
        "\n"
      ]
    },
    {
      "cell_type": "markdown",
      "metadata": {
        "id": "9_gs2wpzCTa1"
      },
      "source": [
        "#**Basics**\n",
        "---"
      ]
    },
    {
      "cell_type": "markdown",
      "metadata": {
        "id": "oVHf0wxj0__9"
      },
      "source": [
        "**Importing Required Libraries**"
      ]
    },
    {
      "cell_type": "code",
      "metadata": {
        "id": "seZP2CNV0Qxi"
      },
      "source": [
        "import pandas as pd\n",
        "import numpy as np\n",
        "import matplotlib.pyplot as plt\n",
        "import seaborn as sns"
      ],
      "execution_count": null,
      "outputs": []
    },
    {
      "cell_type": "markdown",
      "metadata": {
        "id": "4clP59Zr0tWf"
      },
      "source": [
        "**Importing DataSet**"
      ]
    },
    {
      "cell_type": "code",
      "metadata": {
        "id": "jwnQlqRi10WU"
      },
      "source": [
        "match_df = pd.read_csv('/content/drive/MyDrive/COLAB/matches.csv')\n",
        "delivery_df = pd.read_csv('/content/drive/MyDrive/COLAB/deliveries.csv')"
      ],
      "execution_count": null,
      "outputs": []
    },
    {
      "cell_type": "code",
      "metadata": {
        "colab": {
          "base_uri": "https://localhost:8080/"
        },
        "id": "NAgx0AtB3XVL",
        "outputId": "bf458fa8-9f0c-40a5-c4ec-3ecb487e00a8"
      },
      "source": [
        "match_df.shape"
      ],
      "execution_count": null,
      "outputs": [
        {
          "data": {
            "text/plain": [
              "(756, 18)"
            ]
          },
          "execution_count": 219,
          "metadata": {
            "tags": []
          },
          "output_type": "execute_result"
        }
      ]
    },
    {
      "cell_type": "code",
      "metadata": {
        "colab": {
          "base_uri": "https://localhost:8080/",
          "height": 445
        },
        "id": "T9SBne_C8CW9",
        "outputId": "fe7a6ef3-2d3d-4e43-fab4-54e147e4dc01"
      },
      "source": [
        "match_df.head()"
      ],
      "execution_count": null,
      "outputs": [
        {
          "data": {
            "text/html": [
              "<div>\n",
              "<style scoped>\n",
              "    .dataframe tbody tr th:only-of-type {\n",
              "        vertical-align: middle;\n",
              "    }\n",
              "\n",
              "    .dataframe tbody tr th {\n",
              "        vertical-align: top;\n",
              "    }\n",
              "\n",
              "    .dataframe thead th {\n",
              "        text-align: right;\n",
              "    }\n",
              "</style>\n",
              "<table border=\"1\" class=\"dataframe\">\n",
              "  <thead>\n",
              "    <tr style=\"text-align: right;\">\n",
              "      <th></th>\n",
              "      <th>id</th>\n",
              "      <th>season</th>\n",
              "      <th>city</th>\n",
              "      <th>date</th>\n",
              "      <th>team1</th>\n",
              "      <th>team2</th>\n",
              "      <th>toss_winner</th>\n",
              "      <th>toss_decision</th>\n",
              "      <th>result</th>\n",
              "      <th>dl_applied</th>\n",
              "      <th>winner</th>\n",
              "      <th>win_by_runs</th>\n",
              "      <th>win_by_wickets</th>\n",
              "      <th>player_of_match</th>\n",
              "      <th>venue</th>\n",
              "      <th>umpire1</th>\n",
              "      <th>umpire2</th>\n",
              "      <th>umpire3</th>\n",
              "    </tr>\n",
              "  </thead>\n",
              "  <tbody>\n",
              "    <tr>\n",
              "      <th>0</th>\n",
              "      <td>1</td>\n",
              "      <td>2017</td>\n",
              "      <td>Hyderabad</td>\n",
              "      <td>2017-04-05</td>\n",
              "      <td>SRH</td>\n",
              "      <td>RCB</td>\n",
              "      <td>RCB</td>\n",
              "      <td>field</td>\n",
              "      <td>normal</td>\n",
              "      <td>0</td>\n",
              "      <td>SRH</td>\n",
              "      <td>35</td>\n",
              "      <td>0</td>\n",
              "      <td>Yuvraj Singh</td>\n",
              "      <td>Rajiv Gandhi International Stadium, Uppal</td>\n",
              "      <td>AY Dandekar</td>\n",
              "      <td>NJ Llong</td>\n",
              "      <td>NaN</td>\n",
              "    </tr>\n",
              "    <tr>\n",
              "      <th>1</th>\n",
              "      <td>2</td>\n",
              "      <td>2017</td>\n",
              "      <td>Pune</td>\n",
              "      <td>2017-04-06</td>\n",
              "      <td>MI</td>\n",
              "      <td>RPS</td>\n",
              "      <td>RPS</td>\n",
              "      <td>field</td>\n",
              "      <td>normal</td>\n",
              "      <td>0</td>\n",
              "      <td>RPS</td>\n",
              "      <td>0</td>\n",
              "      <td>7</td>\n",
              "      <td>SPD Smith</td>\n",
              "      <td>Maharashtra Cricket Association Stadium</td>\n",
              "      <td>A Nand Kishore</td>\n",
              "      <td>S Ravi</td>\n",
              "      <td>NaN</td>\n",
              "    </tr>\n",
              "    <tr>\n",
              "      <th>2</th>\n",
              "      <td>3</td>\n",
              "      <td>2017</td>\n",
              "      <td>Rajkot</td>\n",
              "      <td>2017-04-07</td>\n",
              "      <td>GL</td>\n",
              "      <td>KKR</td>\n",
              "      <td>KKR</td>\n",
              "      <td>field</td>\n",
              "      <td>normal</td>\n",
              "      <td>0</td>\n",
              "      <td>KKR</td>\n",
              "      <td>0</td>\n",
              "      <td>10</td>\n",
              "      <td>CA Lynn</td>\n",
              "      <td>Saurashtra Cricket Association Stadium</td>\n",
              "      <td>Nitin Menon</td>\n",
              "      <td>CK Nandan</td>\n",
              "      <td>NaN</td>\n",
              "    </tr>\n",
              "    <tr>\n",
              "      <th>3</th>\n",
              "      <td>4</td>\n",
              "      <td>2017</td>\n",
              "      <td>Indore</td>\n",
              "      <td>2017-04-08</td>\n",
              "      <td>RPS</td>\n",
              "      <td>KXIP</td>\n",
              "      <td>KXIP</td>\n",
              "      <td>field</td>\n",
              "      <td>normal</td>\n",
              "      <td>0</td>\n",
              "      <td>KXIP</td>\n",
              "      <td>0</td>\n",
              "      <td>6</td>\n",
              "      <td>GJ Maxwell</td>\n",
              "      <td>Holkar Cricket Stadium</td>\n",
              "      <td>AK Chaudhary</td>\n",
              "      <td>C Shamshuddin</td>\n",
              "      <td>NaN</td>\n",
              "    </tr>\n",
              "    <tr>\n",
              "      <th>4</th>\n",
              "      <td>5</td>\n",
              "      <td>2017</td>\n",
              "      <td>Bangalore</td>\n",
              "      <td>2017-04-08</td>\n",
              "      <td>RCB</td>\n",
              "      <td>DD</td>\n",
              "      <td>RCB</td>\n",
              "      <td>bat</td>\n",
              "      <td>normal</td>\n",
              "      <td>0</td>\n",
              "      <td>RCB</td>\n",
              "      <td>15</td>\n",
              "      <td>0</td>\n",
              "      <td>KM Jadhav</td>\n",
              "      <td>M Chinnaswamy Stadium</td>\n",
              "      <td>NaN</td>\n",
              "      <td>NaN</td>\n",
              "      <td>NaN</td>\n",
              "    </tr>\n",
              "  </tbody>\n",
              "</table>\n",
              "</div>"
            ],
            "text/plain": [
              "   id  season       city  ...         umpire1        umpire2 umpire3\n",
              "0   1    2017  Hyderabad  ...     AY Dandekar       NJ Llong     NaN\n",
              "1   2    2017       Pune  ...  A Nand Kishore         S Ravi     NaN\n",
              "2   3    2017     Rajkot  ...     Nitin Menon      CK Nandan     NaN\n",
              "3   4    2017     Indore  ...    AK Chaudhary  C Shamshuddin     NaN\n",
              "4   5    2017  Bangalore  ...             NaN            NaN     NaN\n",
              "\n",
              "[5 rows x 18 columns]"
            ]
          },
          "execution_count": 290,
          "metadata": {
            "tags": []
          },
          "output_type": "execute_result"
        }
      ]
    },
    {
      "cell_type": "code",
      "metadata": {
        "colab": {
          "base_uri": "https://localhost:8080/"
        },
        "id": "zga7TZnU08k_",
        "outputId": "d4d37ac9-c523-4cf2-e16f-fa4cd1b5581d"
      },
      "source": [
        "delivery_df.shape"
      ],
      "execution_count": null,
      "outputs": [
        {
          "data": {
            "text/plain": [
              "(179078, 21)"
            ]
          },
          "execution_count": 221,
          "metadata": {
            "tags": []
          },
          "output_type": "execute_result"
        }
      ]
    },
    {
      "cell_type": "code",
      "metadata": {
        "colab": {
          "base_uri": "https://localhost:8080/",
          "height": 309
        },
        "id": "dm1e3HrN8JSs",
        "outputId": "98c211db-a8dc-4976-832e-588f09a69b24"
      },
      "source": [
        "delivery_df.head()"
      ],
      "execution_count": null,
      "outputs": [
        {
          "data": {
            "text/html": [
              "<div>\n",
              "<style scoped>\n",
              "    .dataframe tbody tr th:only-of-type {\n",
              "        vertical-align: middle;\n",
              "    }\n",
              "\n",
              "    .dataframe tbody tr th {\n",
              "        vertical-align: top;\n",
              "    }\n",
              "\n",
              "    .dataframe thead th {\n",
              "        text-align: right;\n",
              "    }\n",
              "</style>\n",
              "<table border=\"1\" class=\"dataframe\">\n",
              "  <thead>\n",
              "    <tr style=\"text-align: right;\">\n",
              "      <th></th>\n",
              "      <th>match_id</th>\n",
              "      <th>inning</th>\n",
              "      <th>batting_team</th>\n",
              "      <th>bowling_team</th>\n",
              "      <th>over</th>\n",
              "      <th>ball</th>\n",
              "      <th>batsman</th>\n",
              "      <th>non_striker</th>\n",
              "      <th>bowler</th>\n",
              "      <th>is_super_over</th>\n",
              "      <th>wide_runs</th>\n",
              "      <th>bye_runs</th>\n",
              "      <th>legbye_runs</th>\n",
              "      <th>noball_runs</th>\n",
              "      <th>penalty_runs</th>\n",
              "      <th>batsman_runs</th>\n",
              "      <th>extra_runs</th>\n",
              "      <th>total_runs</th>\n",
              "      <th>player_dismissed</th>\n",
              "      <th>dismissal_kind</th>\n",
              "      <th>fielder</th>\n",
              "      <th>wicket</th>\n",
              "    </tr>\n",
              "  </thead>\n",
              "  <tbody>\n",
              "    <tr>\n",
              "      <th>0</th>\n",
              "      <td>1</td>\n",
              "      <td>1</td>\n",
              "      <td>SRH</td>\n",
              "      <td>RCB</td>\n",
              "      <td>1</td>\n",
              "      <td>1</td>\n",
              "      <td>DA Warner</td>\n",
              "      <td>S Dhawan</td>\n",
              "      <td>TS Mills</td>\n",
              "      <td>0</td>\n",
              "      <td>0</td>\n",
              "      <td>0</td>\n",
              "      <td>0</td>\n",
              "      <td>0</td>\n",
              "      <td>0</td>\n",
              "      <td>0</td>\n",
              "      <td>0</td>\n",
              "      <td>0</td>\n",
              "      <td>NaN</td>\n",
              "      <td>NaN</td>\n",
              "      <td>NaN</td>\n",
              "      <td>0</td>\n",
              "    </tr>\n",
              "    <tr>\n",
              "      <th>1</th>\n",
              "      <td>1</td>\n",
              "      <td>1</td>\n",
              "      <td>SRH</td>\n",
              "      <td>RCB</td>\n",
              "      <td>1</td>\n",
              "      <td>2</td>\n",
              "      <td>DA Warner</td>\n",
              "      <td>S Dhawan</td>\n",
              "      <td>TS Mills</td>\n",
              "      <td>0</td>\n",
              "      <td>0</td>\n",
              "      <td>0</td>\n",
              "      <td>0</td>\n",
              "      <td>0</td>\n",
              "      <td>0</td>\n",
              "      <td>0</td>\n",
              "      <td>0</td>\n",
              "      <td>0</td>\n",
              "      <td>NaN</td>\n",
              "      <td>NaN</td>\n",
              "      <td>NaN</td>\n",
              "      <td>0</td>\n",
              "    </tr>\n",
              "    <tr>\n",
              "      <th>2</th>\n",
              "      <td>1</td>\n",
              "      <td>1</td>\n",
              "      <td>SRH</td>\n",
              "      <td>RCB</td>\n",
              "      <td>1</td>\n",
              "      <td>3</td>\n",
              "      <td>DA Warner</td>\n",
              "      <td>S Dhawan</td>\n",
              "      <td>TS Mills</td>\n",
              "      <td>0</td>\n",
              "      <td>0</td>\n",
              "      <td>0</td>\n",
              "      <td>0</td>\n",
              "      <td>0</td>\n",
              "      <td>0</td>\n",
              "      <td>4</td>\n",
              "      <td>0</td>\n",
              "      <td>4</td>\n",
              "      <td>NaN</td>\n",
              "      <td>NaN</td>\n",
              "      <td>NaN</td>\n",
              "      <td>0</td>\n",
              "    </tr>\n",
              "    <tr>\n",
              "      <th>3</th>\n",
              "      <td>1</td>\n",
              "      <td>1</td>\n",
              "      <td>SRH</td>\n",
              "      <td>RCB</td>\n",
              "      <td>1</td>\n",
              "      <td>4</td>\n",
              "      <td>DA Warner</td>\n",
              "      <td>S Dhawan</td>\n",
              "      <td>TS Mills</td>\n",
              "      <td>0</td>\n",
              "      <td>0</td>\n",
              "      <td>0</td>\n",
              "      <td>0</td>\n",
              "      <td>0</td>\n",
              "      <td>0</td>\n",
              "      <td>0</td>\n",
              "      <td>0</td>\n",
              "      <td>0</td>\n",
              "      <td>NaN</td>\n",
              "      <td>NaN</td>\n",
              "      <td>NaN</td>\n",
              "      <td>0</td>\n",
              "    </tr>\n",
              "    <tr>\n",
              "      <th>4</th>\n",
              "      <td>1</td>\n",
              "      <td>1</td>\n",
              "      <td>SRH</td>\n",
              "      <td>RCB</td>\n",
              "      <td>1</td>\n",
              "      <td>5</td>\n",
              "      <td>DA Warner</td>\n",
              "      <td>S Dhawan</td>\n",
              "      <td>TS Mills</td>\n",
              "      <td>0</td>\n",
              "      <td>2</td>\n",
              "      <td>0</td>\n",
              "      <td>0</td>\n",
              "      <td>0</td>\n",
              "      <td>0</td>\n",
              "      <td>0</td>\n",
              "      <td>2</td>\n",
              "      <td>2</td>\n",
              "      <td>NaN</td>\n",
              "      <td>NaN</td>\n",
              "      <td>NaN</td>\n",
              "      <td>0</td>\n",
              "    </tr>\n",
              "  </tbody>\n",
              "</table>\n",
              "</div>"
            ],
            "text/plain": [
              "   match_id  inning batting_team  ... dismissal_kind  fielder  wicket\n",
              "0         1       1          SRH  ...            NaN      NaN       0\n",
              "1         1       1          SRH  ...            NaN      NaN       0\n",
              "2         1       1          SRH  ...            NaN      NaN       0\n",
              "3         1       1          SRH  ...            NaN      NaN       0\n",
              "4         1       1          SRH  ...            NaN      NaN       0\n",
              "\n",
              "[5 rows x 22 columns]"
            ]
          },
          "execution_count": 0,
          "metadata": {
            "tags": []
          },
          "output_type": "execute_result"
        }
      ]
    },
    {
      "cell_type": "code",
      "metadata": {
        "colab": {
          "base_uri": "https://localhost:8080/"
        },
        "id": "2g8GbNdW39db",
        "outputId": "f1dffa24-5c56-430d-a0f7-405f28d37e57"
      },
      "source": [
        "match_df.columns"
      ],
      "execution_count": null,
      "outputs": [
        {
          "data": {
            "text/plain": [
              "Index(['id', 'season', 'city', 'date', 'team1', 'team2', 'toss_winner',\n",
              "       'toss_decision', 'result', 'dl_applied', 'winner', 'win_by_runs',\n",
              "       'win_by_wickets', 'player_of_match', 'venue', 'umpire1', 'umpire2',\n",
              "       'umpire3'],\n",
              "      dtype='object')"
            ]
          },
          "execution_count": 223,
          "metadata": {
            "tags": []
          },
          "output_type": "execute_result"
        }
      ]
    },
    {
      "cell_type": "code",
      "metadata": {
        "colab": {
          "base_uri": "https://localhost:8080/"
        },
        "id": "U5xed3KS4BBp",
        "outputId": "3f05a79b-ee23-4457-f668-4afe6b16801a"
      },
      "source": [
        "match_df.info()"
      ],
      "execution_count": null,
      "outputs": [
        {
          "name": "stdout",
          "output_type": "stream",
          "text": [
            "<class 'pandas.core.frame.DataFrame'>\n",
            "RangeIndex: 756 entries, 0 to 755\n",
            "Data columns (total 18 columns):\n",
            " #   Column           Non-Null Count  Dtype \n",
            "---  ------           --------------  ----- \n",
            " 0   id               756 non-null    int64 \n",
            " 1   season           756 non-null    int64 \n",
            " 2   city             749 non-null    object\n",
            " 3   date             756 non-null    object\n",
            " 4   team1            756 non-null    object\n",
            " 5   team2            756 non-null    object\n",
            " 6   toss_winner      756 non-null    object\n",
            " 7   toss_decision    756 non-null    object\n",
            " 8   result           756 non-null    object\n",
            " 9   dl_applied       756 non-null    int64 \n",
            " 10  winner           752 non-null    object\n",
            " 11  win_by_runs      756 non-null    int64 \n",
            " 12  win_by_wickets   756 non-null    int64 \n",
            " 13  player_of_match  752 non-null    object\n",
            " 14  venue            756 non-null    object\n",
            " 15  umpire1          754 non-null    object\n",
            " 16  umpire2          754 non-null    object\n",
            " 17  umpire3          119 non-null    object\n",
            "dtypes: int64(5), object(13)\n",
            "memory usage: 106.4+ KB\n"
          ]
        }
      ]
    },
    {
      "cell_type": "code",
      "metadata": {
        "colab": {
          "base_uri": "https://localhost:8080/"
        },
        "id": "a39HkaMQ76k5",
        "outputId": "fcd547cc-1219-4400-c89e-0e213cc12128"
      },
      "source": [
        "match_df.isna().sum()"
      ],
      "execution_count": null,
      "outputs": [
        {
          "data": {
            "text/plain": [
              "id                   0\n",
              "season               0\n",
              "city                 7\n",
              "date                 0\n",
              "team1                0\n",
              "team2                0\n",
              "toss_winner          0\n",
              "toss_decision        0\n",
              "result               0\n",
              "dl_applied           0\n",
              "winner               4\n",
              "win_by_runs          0\n",
              "win_by_wickets       0\n",
              "player_of_match      4\n",
              "venue                0\n",
              "umpire1              2\n",
              "umpire2              2\n",
              "umpire3            637\n",
              "dtype: int64"
            ]
          },
          "execution_count": 225,
          "metadata": {
            "tags": []
          },
          "output_type": "execute_result"
        }
      ]
    },
    {
      "cell_type": "code",
      "metadata": {
        "colab": {
          "base_uri": "https://localhost:8080/",
          "height": 173
        },
        "id": "JQJf0-Pc8yth",
        "outputId": "543b566a-ba75-4208-a881-a0e962ae7c31"
      },
      "source": [
        "match_df[match_df.winner.isnull()][['result','winner','player_of_match']]"
      ],
      "execution_count": null,
      "outputs": [
        {
          "data": {
            "text/html": [
              "<div>\n",
              "<style scoped>\n",
              "    .dataframe tbody tr th:only-of-type {\n",
              "        vertical-align: middle;\n",
              "    }\n",
              "\n",
              "    .dataframe tbody tr th {\n",
              "        vertical-align: top;\n",
              "    }\n",
              "\n",
              "    .dataframe thead th {\n",
              "        text-align: right;\n",
              "    }\n",
              "</style>\n",
              "<table border=\"1\" class=\"dataframe\">\n",
              "  <thead>\n",
              "    <tr style=\"text-align: right;\">\n",
              "      <th></th>\n",
              "      <th>result</th>\n",
              "      <th>winner</th>\n",
              "      <th>player_of_match</th>\n",
              "    </tr>\n",
              "  </thead>\n",
              "  <tbody>\n",
              "    <tr>\n",
              "      <th>300</th>\n",
              "      <td>no result</td>\n",
              "      <td>NaN</td>\n",
              "      <td>NaN</td>\n",
              "    </tr>\n",
              "    <tr>\n",
              "      <th>545</th>\n",
              "      <td>no result</td>\n",
              "      <td>NaN</td>\n",
              "      <td>NaN</td>\n",
              "    </tr>\n",
              "    <tr>\n",
              "      <th>570</th>\n",
              "      <td>no result</td>\n",
              "      <td>NaN</td>\n",
              "      <td>NaN</td>\n",
              "    </tr>\n",
              "    <tr>\n",
              "      <th>744</th>\n",
              "      <td>no result</td>\n",
              "      <td>NaN</td>\n",
              "      <td>NaN</td>\n",
              "    </tr>\n",
              "  </tbody>\n",
              "</table>\n",
              "</div>"
            ],
            "text/plain": [
              "        result winner player_of_match\n",
              "300  no result    NaN             NaN\n",
              "545  no result    NaN             NaN\n",
              "570  no result    NaN             NaN\n",
              "744  no result    NaN             NaN"
            ]
          },
          "execution_count": 226,
          "metadata": {
            "tags": []
          },
          "output_type": "execute_result"
        }
      ]
    },
    {
      "cell_type": "code",
      "metadata": {
        "colab": {
          "background_save": true,
          "base_uri": "https://localhost:8080/",
          "height": 266
        },
        "id": "bPALvPBF-ZjP",
        "outputId": "c94cd044-949e-406a-813b-fced010ac327"
      },
      "source": [
        "match_df[match_df.city.isnull()][['season','city']]"
      ],
      "execution_count": null,
      "outputs": [
        {
          "data": {
            "text/html": [
              "<div>\n",
              "<style scoped>\n",
              "    .dataframe tbody tr th:only-of-type {\n",
              "        vertical-align: middle;\n",
              "    }\n",
              "\n",
              "    .dataframe tbody tr th {\n",
              "        vertical-align: top;\n",
              "    }\n",
              "\n",
              "    .dataframe thead th {\n",
              "        text-align: right;\n",
              "    }\n",
              "</style>\n",
              "<table border=\"1\" class=\"dataframe\">\n",
              "  <thead>\n",
              "    <tr style=\"text-align: right;\">\n",
              "      <th></th>\n",
              "      <th>season</th>\n",
              "      <th>city</th>\n",
              "    </tr>\n",
              "  </thead>\n",
              "  <tbody>\n",
              "    <tr>\n",
              "      <th>461</th>\n",
              "      <td>2014</td>\n",
              "      <td>NaN</td>\n",
              "    </tr>\n",
              "    <tr>\n",
              "      <th>462</th>\n",
              "      <td>2014</td>\n",
              "      <td>NaN</td>\n",
              "    </tr>\n",
              "    <tr>\n",
              "      <th>466</th>\n",
              "      <td>2014</td>\n",
              "      <td>NaN</td>\n",
              "    </tr>\n",
              "    <tr>\n",
              "      <th>468</th>\n",
              "      <td>2014</td>\n",
              "      <td>NaN</td>\n",
              "    </tr>\n",
              "    <tr>\n",
              "      <th>469</th>\n",
              "      <td>2014</td>\n",
              "      <td>NaN</td>\n",
              "    </tr>\n",
              "    <tr>\n",
              "      <th>474</th>\n",
              "      <td>2014</td>\n",
              "      <td>NaN</td>\n",
              "    </tr>\n",
              "    <tr>\n",
              "      <th>476</th>\n",
              "      <td>2014</td>\n",
              "      <td>NaN</td>\n",
              "    </tr>\n",
              "  </tbody>\n",
              "</table>\n",
              "</div>"
            ],
            "text/plain": [
              "     season city\n",
              "461    2014  NaN\n",
              "462    2014  NaN\n",
              "466    2014  NaN\n",
              "468    2014  NaN\n",
              "469    2014  NaN\n",
              "474    2014  NaN\n",
              "476    2014  NaN"
            ]
          },
          "execution_count": null,
          "metadata": {},
          "output_type": "execute_result"
        }
      ]
    },
    {
      "cell_type": "code",
      "metadata": {
        "colab": {
          "background_save": true,
          "base_uri": "https://localhost:8080/"
        },
        "id": "XeRQsTK3_FiO",
        "outputId": "f62d87b5-2015-4996-9a64-8c4318a68d5d"
      },
      "source": [
        "match_df.city = match_df.city.fillna(\"UAE\")\n",
        "match_df.isna().sum()"
      ],
      "execution_count": null,
      "outputs": [
        {
          "data": {
            "text/plain": [
              "id                   0\n",
              "season               0\n",
              "city                 0\n",
              "date                 0\n",
              "team1                0\n",
              "team2                0\n",
              "toss_winner          0\n",
              "toss_decision        0\n",
              "result               0\n",
              "dl_applied           0\n",
              "winner               4\n",
              "win_by_runs          0\n",
              "win_by_wickets       0\n",
              "player_of_match      4\n",
              "venue                0\n",
              "umpire1              2\n",
              "umpire2              2\n",
              "umpire3            637\n",
              "dtype: int64"
            ]
          },
          "execution_count": null,
          "metadata": {},
          "output_type": "execute_result"
        }
      ]
    },
    {
      "cell_type": "code",
      "metadata": {
        "colab": {
          "background_save": true,
          "base_uri": "https://localhost:8080/"
        },
        "id": "PWhEXjU1AGHw",
        "outputId": "98e93441-a66f-4a7e-e39b-3f534cedbf70"
      },
      "source": [
        "match_df['team1'].value_counts()"
      ],
      "execution_count": null,
      "outputs": [
        {
          "data": {
            "text/plain": [
              "Mumbai Indians                 101\n",
              "Kings XI Punjab                 91\n",
              "Chennai Super Kings             89\n",
              "Royal Challengers Bangalore     85\n",
              "Kolkata Knight Riders           83\n",
              "Delhi Daredevils                72\n",
              "Rajasthan Royals                67\n",
              "Sunrisers Hyderabad             63\n",
              "Deccan Chargers                 43\n",
              "Pune Warriors                   20\n",
              "Gujarat Lions                   14\n",
              "Rising Pune Supergiant           8\n",
              "Kochi Tuskers Kerala             7\n",
              "Rising Pune Supergiants          7\n",
              "Delhi Capitals                   6\n",
              "Name: team1, dtype: int64"
            ]
          },
          "execution_count": null,
          "metadata": {},
          "output_type": "execute_result"
        }
      ]
    },
    {
      "cell_type": "code",
      "metadata": {
        "colab": {
          "background_save": true,
          "base_uri": "https://localhost:8080/"
        },
        "id": "uP64bpmX1mmM",
        "outputId": "bcfc063a-f920-482d-f8fc-e548e67eb880"
      },
      "source": [
        "delivery_df['batting_team'].value_counts()"
      ],
      "execution_count": null,
      "outputs": [
        {
          "data": {
            "text/plain": [
              "Mumbai Indians                 22619\n",
              "Kings XI Punjab                20931\n",
              "Royal Challengers Bangalore    20908\n",
              "Kolkata Knight Riders          20858\n",
              "Chennai Super Kings            19762\n",
              "Delhi Daredevils               18786\n",
              "Rajasthan Royals               17292\n",
              "Sunrisers Hyderabad            12908\n",
              "Deccan Chargers                 9034\n",
              "Pune Warriors                   5443\n",
              "Gujarat Lions                   3566\n",
              "Delhi Capitals                  1909\n",
              "Rising Pune Supergiant          1900\n",
              "Kochi Tuskers Kerala            1582\n",
              "Rising Pune Supergiants         1580\n",
              "Name: batting_team, dtype: int64"
            ]
          },
          "execution_count": null,
          "metadata": {},
          "output_type": "execute_result"
        }
      ]
    },
    {
      "cell_type": "code",
      "metadata": {
        "colab": {
          "background_save": true,
          "base_uri": "https://localhost:8080/"
        },
        "id": "2-JJKp1dDi-O",
        "outputId": "641c617b-bc69-4483-f3a4-0ad8ad5585d8"
      },
      "source": [
        "teams = {\n",
        "    'Sunrisers Hyderabad' : 'SRH', 'Mumbai Indians' : 'MI', 'Gujarat Lions' : 'GL',\n",
        "    'Rising Pune Supergiants' : 'RPS', 'Rising Pune Supergiant': 'RPS', 'Royal Challengers Bangalore' : 'RCB',\n",
        "    'Kolkata Knight Riders' : 'KKR', 'Delhi Daredevils' : 'DD', 'Kings XI Punjab' : 'KXIP',\n",
        "    'Chennai Super Kings' : 'CSK', 'Rajasthan Royals' : 'RR', 'Deccan Chargers' : 'DC(old)',\n",
        "    'Kochi Tuskers Kerala' : 'KTK', 'Pune Warriors' : 'PW','Delhi Capitals' : 'DC(new)'\n",
        "}\n",
        "\n",
        "print(len(teams))\n",
        "teams"
      ],
      "execution_count": null,
      "outputs": [
        {
          "name": "stdout",
          "output_type": "stream",
          "text": [
            "15\n"
          ]
        },
        {
          "data": {
            "text/plain": [
              "{'Chennai Super Kings': 'CSK',\n",
              " 'Deccan Chargers': 'DC(old)',\n",
              " 'Delhi Capitals': 'DC(new)',\n",
              " 'Delhi Daredevils': 'DD',\n",
              " 'Gujarat Lions': 'GL',\n",
              " 'Kings XI Punjab': 'KXIP',\n",
              " 'Kochi Tuskers Kerala': 'KTK',\n",
              " 'Kolkata Knight Riders': 'KKR',\n",
              " 'Mumbai Indians': 'MI',\n",
              " 'Pune Warriors': 'PW',\n",
              " 'Rajasthan Royals': 'RR',\n",
              " 'Rising Pune Supergiant': 'RPS',\n",
              " 'Rising Pune Supergiants': 'RPS',\n",
              " 'Royal Challengers Bangalore': 'RCB',\n",
              " 'Sunrisers Hyderabad': 'SRH'}"
            ]
          },
          "execution_count": null,
          "metadata": {},
          "output_type": "execute_result"
        }
      ]
    },
    {
      "cell_type": "code",
      "metadata": {
        "colab": {
          "background_save": true,
          "base_uri": "https://localhost:8080/",
          "height": 445
        },
        "id": "f0p3AWo-Fpo-",
        "outputId": "6af111fd-d2f4-42ed-876c-172027b679ea"
      },
      "source": [
        "match_df['winner'] = match_df['winner'].map(teams)\n",
        "match_df['team1'] = match_df['team1'].map(teams)\n",
        "match_df['team2'] = match_df['team2'].map(teams)\n",
        "match_df['toss_winner'] = match_df['toss_winner'].map(teams)\n",
        "\n",
        "delivery_df['batting_team'] = delivery_df['batting_team'].map(teams)\n",
        "delivery_df['bowling_team'] = delivery_df['bowling_team'].map(teams)\n",
        "\n",
        "match_df.head(5)"
      ],
      "execution_count": null,
      "outputs": [
        {
          "data": {
            "text/html": [
              "<div>\n",
              "<style scoped>\n",
              "    .dataframe tbody tr th:only-of-type {\n",
              "        vertical-align: middle;\n",
              "    }\n",
              "\n",
              "    .dataframe tbody tr th {\n",
              "        vertical-align: top;\n",
              "    }\n",
              "\n",
              "    .dataframe thead th {\n",
              "        text-align: right;\n",
              "    }\n",
              "</style>\n",
              "<table border=\"1\" class=\"dataframe\">\n",
              "  <thead>\n",
              "    <tr style=\"text-align: right;\">\n",
              "      <th></th>\n",
              "      <th>id</th>\n",
              "      <th>season</th>\n",
              "      <th>city</th>\n",
              "      <th>date</th>\n",
              "      <th>team1</th>\n",
              "      <th>team2</th>\n",
              "      <th>toss_winner</th>\n",
              "      <th>toss_decision</th>\n",
              "      <th>result</th>\n",
              "      <th>dl_applied</th>\n",
              "      <th>winner</th>\n",
              "      <th>win_by_runs</th>\n",
              "      <th>win_by_wickets</th>\n",
              "      <th>player_of_match</th>\n",
              "      <th>venue</th>\n",
              "      <th>umpire1</th>\n",
              "      <th>umpire2</th>\n",
              "      <th>umpire3</th>\n",
              "    </tr>\n",
              "  </thead>\n",
              "  <tbody>\n",
              "    <tr>\n",
              "      <th>0</th>\n",
              "      <td>1</td>\n",
              "      <td>2017</td>\n",
              "      <td>Hyderabad</td>\n",
              "      <td>2017-04-05</td>\n",
              "      <td>SRH</td>\n",
              "      <td>RCB</td>\n",
              "      <td>RCB</td>\n",
              "      <td>field</td>\n",
              "      <td>normal</td>\n",
              "      <td>0</td>\n",
              "      <td>SRH</td>\n",
              "      <td>35</td>\n",
              "      <td>0</td>\n",
              "      <td>Yuvraj Singh</td>\n",
              "      <td>Rajiv Gandhi International Stadium, Uppal</td>\n",
              "      <td>AY Dandekar</td>\n",
              "      <td>NJ Llong</td>\n",
              "      <td>NaN</td>\n",
              "    </tr>\n",
              "    <tr>\n",
              "      <th>1</th>\n",
              "      <td>2</td>\n",
              "      <td>2017</td>\n",
              "      <td>Pune</td>\n",
              "      <td>2017-04-06</td>\n",
              "      <td>MI</td>\n",
              "      <td>RPS</td>\n",
              "      <td>RPS</td>\n",
              "      <td>field</td>\n",
              "      <td>normal</td>\n",
              "      <td>0</td>\n",
              "      <td>RPS</td>\n",
              "      <td>0</td>\n",
              "      <td>7</td>\n",
              "      <td>SPD Smith</td>\n",
              "      <td>Maharashtra Cricket Association Stadium</td>\n",
              "      <td>A Nand Kishore</td>\n",
              "      <td>S Ravi</td>\n",
              "      <td>NaN</td>\n",
              "    </tr>\n",
              "    <tr>\n",
              "      <th>2</th>\n",
              "      <td>3</td>\n",
              "      <td>2017</td>\n",
              "      <td>Rajkot</td>\n",
              "      <td>2017-04-07</td>\n",
              "      <td>GL</td>\n",
              "      <td>KKR</td>\n",
              "      <td>KKR</td>\n",
              "      <td>field</td>\n",
              "      <td>normal</td>\n",
              "      <td>0</td>\n",
              "      <td>KKR</td>\n",
              "      <td>0</td>\n",
              "      <td>10</td>\n",
              "      <td>CA Lynn</td>\n",
              "      <td>Saurashtra Cricket Association Stadium</td>\n",
              "      <td>Nitin Menon</td>\n",
              "      <td>CK Nandan</td>\n",
              "      <td>NaN</td>\n",
              "    </tr>\n",
              "    <tr>\n",
              "      <th>3</th>\n",
              "      <td>4</td>\n",
              "      <td>2017</td>\n",
              "      <td>Indore</td>\n",
              "      <td>2017-04-08</td>\n",
              "      <td>RPS</td>\n",
              "      <td>KXIP</td>\n",
              "      <td>KXIP</td>\n",
              "      <td>field</td>\n",
              "      <td>normal</td>\n",
              "      <td>0</td>\n",
              "      <td>KXIP</td>\n",
              "      <td>0</td>\n",
              "      <td>6</td>\n",
              "      <td>GJ Maxwell</td>\n",
              "      <td>Holkar Cricket Stadium</td>\n",
              "      <td>AK Chaudhary</td>\n",
              "      <td>C Shamshuddin</td>\n",
              "      <td>NaN</td>\n",
              "    </tr>\n",
              "    <tr>\n",
              "      <th>4</th>\n",
              "      <td>5</td>\n",
              "      <td>2017</td>\n",
              "      <td>Bangalore</td>\n",
              "      <td>2017-04-08</td>\n",
              "      <td>RCB</td>\n",
              "      <td>DD</td>\n",
              "      <td>RCB</td>\n",
              "      <td>bat</td>\n",
              "      <td>normal</td>\n",
              "      <td>0</td>\n",
              "      <td>RCB</td>\n",
              "      <td>15</td>\n",
              "      <td>0</td>\n",
              "      <td>KM Jadhav</td>\n",
              "      <td>M Chinnaswamy Stadium</td>\n",
              "      <td>NaN</td>\n",
              "      <td>NaN</td>\n",
              "      <td>NaN</td>\n",
              "    </tr>\n",
              "  </tbody>\n",
              "</table>\n",
              "</div>"
            ],
            "text/plain": [
              "   id  season       city  ...         umpire1        umpire2 umpire3\n",
              "0   1    2017  Hyderabad  ...     AY Dandekar       NJ Llong     NaN\n",
              "1   2    2017       Pune  ...  A Nand Kishore         S Ravi     NaN\n",
              "2   3    2017     Rajkot  ...     Nitin Menon      CK Nandan     NaN\n",
              "3   4    2017     Indore  ...    AK Chaudhary  C Shamshuddin     NaN\n",
              "4   5    2017  Bangalore  ...             NaN            NaN     NaN\n",
              "\n",
              "[5 rows x 18 columns]"
            ]
          },
          "execution_count": null,
          "metadata": {},
          "output_type": "execute_result"
        }
      ]
    },
    {
      "cell_type": "code",
      "metadata": {
        "colab": {
          "background_save": true,
          "base_uri": "https://localhost:8080/"
        },
        "id": "yPx9F9v3DGKO",
        "outputId": "cb063abe-affe-47a7-c086-882edfe5d701"
      },
      "source": [
        "match_df['team1'].unique()"
      ],
      "execution_count": null,
      "outputs": [
        {
          "data": {
            "text/plain": [
              "array(['SRH', 'MI', 'GL', 'RPS', 'RCB', 'KKR', 'DD', 'KXIP', 'CSK', 'RR',\n",
              "       'DC(old)', 'KTK', 'PW', 'DC(new)'], dtype=object)"
            ]
          },
          "execution_count": null,
          "metadata": {},
          "output_type": "execute_result"
        }
      ]
    },
    {
      "cell_type": "markdown",
      "metadata": {
        "id": "HOfxTUzn_wiG"
      },
      "source": [
        "#**IPL Matches Analysis**\n",
        "\n",
        "---"
      ]
    },
    {
      "cell_type": "markdown",
      "metadata": {
        "id": "H3LBlQM7hScw"
      },
      "source": [
        "---\n",
        "**Season with most number of matches**"
      ]
    },
    {
      "cell_type": "code",
      "metadata": {
        "colab": {
          "background_save": true,
          "base_uri": "https://localhost:8080/",
          "height": 480
        },
        "id": "fopNafxQeen3",
        "outputId": "b3c63604-75da-4310-e4b4-56109803c733"
      },
      "source": [
        "season = match_df['season'].value_counts().sort_values(ascending=False)\n",
        "\n",
        "fig, ax = plt.subplots(figsize = (20.0, 7.0))\n",
        "ax.set_ylim([0,80])\n",
        "ax.set_title(\"Season with most number of matches\", fontsize=20, fontweight='bold')\n",
        "sns.barplot(x = season.index, y = season, orient='v')\n",
        "plt.xlabel(\"season\", fontsize=20, fontweight='bold')\n",
        "plt.ylabel(\"No of Matches\", fontsize=20, fontweight='bold')\n",
        "plt.xticks(size=16)\n",
        "plt.yticks(size=16)\n",
        "for t in ax.patches:\n",
        "    ax.text(t.get_x()+0.3,t.get_height()+0.3, int(t.get_height()), fontsize = 16, fontweight = 'bold')\n",
        "plt.show()"
      ],
      "execution_count": null,
      "outputs": [
        {
          "data": {
            "image/png": "[encoded data removed]",
            "text/plain": [
              "<Figure size 1440x504 with 1 Axes>"
            ]
          },
          "metadata": {},
          "output_type": "display_data"
        }
      ]
    },
    {
      "cell_type": "markdown",
      "metadata": {
        "id": "mqYWMGC3t8ZW"
      },
      "source": [
        "---\n",
        "**Venue with most Matches**"
      ]
    },
    {
      "cell_type": "code",
      "metadata": {
        "colab": {
          "background_save": true,
          "base_uri": "https://localhost:8080/",
          "height": 480
        },
        "id": "-UTKLszGt9P4",
        "outputId": "dc5cee63-b92c-4e24-9b1b-f5f3d62d0d30"
      },
      "source": [
        "venue = match_df['venue'].value_counts().sort_values(ascending=False)[:5]\n",
        "\n",
        "fig, ax = plt.subplots(figsize = (20.0, 7.0))\n",
        "ax.set_ylim([0,80])\n",
        "ax.set_title(\"Venue with most Matches\", fontsize=20, fontweight='bold')\n",
        "sns.barplot(x = venue.index, y = venue, orient='v')\n",
        "plt.xlabel(\"venue\", fontsize=20, fontweight='bold')\n",
        "plt.ylabel(\"No of Matches\", fontsize=20, fontweight='bold')\n",
        "plt.xticks(size=16)\n",
        "plt.yticks(size=16)\n",
        "for t in ax.patches:\n",
        "    ax.text(t.get_x()+0.3,t.get_height()+0.3, int(t.get_height()), fontsize = 16, fontweight = 'bold')\n",
        "plt.show()"
      ],
      "execution_count": null,
      "outputs": [
        {
          "data": {
            "image/png": "[encoded data removed]",
            "text/plain": [
              "<Figure size 1440x504 with 1 Axes>"
            ]
          },
          "metadata": {},
          "output_type": "display_data"
        }
      ]
    },
    {
      "cell_type": "markdown",
      "metadata": {
        "id": "T6AA1qIbuD21"
      },
      "source": [
        ""
      ]
    },
    {
      "cell_type": "markdown",
      "metadata": {
        "id": "2AM4qPPxL1r_"
      },
      "source": [
        "---\n",
        "**Teams With Most Numbers of Win**\n"
      ]
    },
    {
      "cell_type": "code",
      "metadata": {
        "colab": {
          "background_save": true,
          "base_uri": "https://localhost:8080/"
        },
        "id": "mBUb7WXuMIYy",
        "outputId": "2fc7247e-0566-482e-b59f-f25b57c06fdd"
      },
      "source": [
        "win = match_df['winner'].value_counts()\n",
        "win"
      ],
      "execution_count": null,
      "outputs": [
        {
          "data": {
            "text/plain": [
              "MI         109\n",
              "CSK        100\n",
              "KKR         92\n",
              "RCB         84\n",
              "KXIP        82\n",
              "RR          75\n",
              "DD          67\n",
              "SRH         58\n",
              "DC(old)     29\n",
              "RPS         15\n",
              "GL          13\n",
              "PW          12\n",
              "DC(new)     10\n",
              "KTK          6\n",
              "Name: winner, dtype: int64"
            ]
          },
          "execution_count": null,
          "metadata": {},
          "output_type": "execute_result"
        }
      ]
    },
    {
      "cell_type": "code",
      "metadata": {
        "colab": {
          "background_save": true,
          "base_uri": "https://localhost:8080/",
          "height": 483
        },
        "id": "TdPzbXZ2M5Gz",
        "outputId": "5b107766-0731-4243-d367-55c654172314"
      },
      "source": [
        "g = win.plot.barh(figsize=(12,6))\n",
        "g.invert_yaxis()\n",
        "g.set_title(\"Teams with most number of Wins\\n\", fontsize = 16, fontweight = 'bold')\n",
        "g.set_xlabel(\"Number of Matches won\\n\\n\", fontsize = 16, fontweight = 'bold')\n",
        "plt.yticks(size = 18)\n",
        "plt.yticks(size = 14)\n",
        "\n",
        "for t in g.patches:\n",
        "    g.text(t.get_width()+0.5,t.get_y()+0.5, t.get_width(), fontsize = 10, fontweight = 'bold')\n",
        "\n",
        "g"
      ],
      "execution_count": null,
      "outputs": [
        {
          "data": {
            "text/plain": [
              "<matplotlib.axes._subplots.AxesSubplot at 0x7fc77d36c490>"
            ]
          },
          "execution_count": null,
          "metadata": {},
          "output_type": "execute_result"
        },
        {
          "data": {
            "image/png": "[encoded data removed]",
            "text/plain": [
              "<Figure size 864x432 with 1 Axes>"
            ]
          },
          "metadata": {},
          "output_type": "display_data"
        }
      ]
    },
    {
      "cell_type": "markdown",
      "metadata": {
        "id": "CV627rLkY7ah"
      },
      "source": [
        "---\n",
        "**Match info for win by maximum runs**"
      ]
    },
    {
      "cell_type": "code",
      "metadata": {
        "colab": {
          "background_save": true,
          "base_uri": "https://localhost:8080/"
        },
        "id": "wesT24Z-aRmL",
        "outputId": "81d8e47b-0785-4bb2-b512-28f078ae2a6c"
      },
      "source": [
        "match_df.iloc[match_df['win_by_runs'].idxmax()]"
      ],
      "execution_count": null,
      "outputs": [
        {
          "data": {
            "text/plain": [
              "id                               44\n",
              "season                         2017\n",
              "city                          Delhi\n",
              "date                     2017-05-06\n",
              "team1                            MI\n",
              "team2                            DD\n",
              "toss_winner                      DD\n",
              "toss_decision                 field\n",
              "result                       normal\n",
              "dl_applied                        0\n",
              "winner                           MI\n",
              "win_by_runs                     146\n",
              "win_by_wickets                    0\n",
              "player_of_match         LMP Simmons\n",
              "venue              Feroz Shah Kotla\n",
              "umpire1                 Nitin Menon\n",
              "umpire2                   CK Nandan\n",
              "umpire3                         NaN\n",
              "Name: 43, dtype: object"
            ]
          },
          "execution_count": null,
          "metadata": {},
          "output_type": "execute_result"
        }
      ]
    },
    {
      "cell_type": "code",
      "metadata": {
        "colab": {
          "background_save": true,
          "base_uri": "https://localhost:8080/"
        },
        "id": "TIl1eBplTk5T",
        "outputId": "c9febd50-1956-447a-9708-daf619ce12cd"
      },
      "source": [
        "match_df.iloc[match_df['win_by_runs'].idxmax()]"
      ],
      "execution_count": null,
      "outputs": [
        {
          "data": {
            "text/plain": [
              "id                               44\n",
              "season                         2017\n",
              "city                          Delhi\n",
              "date                     2017-05-06\n",
              "team1                            MI\n",
              "team2                            DD\n",
              "toss_winner                      DD\n",
              "toss_decision                 field\n",
              "result                       normal\n",
              "dl_applied                        0\n",
              "winner                           MI\n",
              "win_by_runs                     146\n",
              "win_by_wickets                    0\n",
              "player_of_match         LMP Simmons\n",
              "venue              Feroz Shah Kotla\n",
              "umpire1                 Nitin Menon\n",
              "umpire2                   CK Nandan\n",
              "umpire3                         NaN\n",
              "Name: 43, dtype: object"
            ]
          },
          "execution_count": null,
          "metadata": {},
          "output_type": "execute_result"
        }
      ]
    },
    {
      "cell_type": "markdown",
      "metadata": {
        "id": "fkMt4uQQcugo"
      },
      "source": [
        "---\n",
        "**Match info for win by minimum runs**\n",
        "\n",
        "\n",
        "\n",
        "\n"
      ]
    },
    {
      "cell_type": "code",
      "metadata": {
        "colab": {
          "background_save": true,
          "base_uri": "https://localhost:8080/"
        },
        "id": "dZVVMgzdbZxA",
        "outputId": "49d191f0-f39c-4224-e634-d6bfbbb269eb"
      },
      "source": [
        "match_df.iloc[match_df[match_df['win_by_runs'].ge(1)].win_by_runs.idxmin()]"
      ],
      "execution_count": null,
      "outputs": [
        {
          "data": {
            "text/plain": [
              "id                                                        59\n",
              "season                                                  2017\n",
              "city                                               Hyderabad\n",
              "date                                              2017-05-21\n",
              "team1                                                     MI\n",
              "team2                                                    RPS\n",
              "toss_winner                                               MI\n",
              "toss_decision                                            bat\n",
              "result                                                normal\n",
              "dl_applied                                                 0\n",
              "winner                                                    MI\n",
              "win_by_runs                                                1\n",
              "win_by_wickets                                             0\n",
              "player_of_match                                    KH Pandya\n",
              "venue              Rajiv Gandhi International Stadium, Uppal\n",
              "umpire1                                             NJ Llong\n",
              "umpire2                                               S Ravi\n",
              "umpire3                                                  NaN\n",
              "Name: 58, dtype: object"
            ]
          },
          "execution_count": null,
          "metadata": {},
          "output_type": "execute_result"
        }
      ]
    },
    {
      "cell_type": "markdown",
      "metadata": {
        "id": "P7Pdf245Zz_A"
      },
      "source": [
        "---\n",
        "**Match info for win by maximum wickets**"
      ]
    },
    {
      "cell_type": "code",
      "metadata": {
        "colab": {
          "background_save": true,
          "base_uri": "https://localhost:8080/"
        },
        "id": "XSFUm8xmaBmb",
        "outputId": "033892f4-e193-4b2a-bfd0-159f16338ee7"
      },
      "source": [
        "match_df.iloc[match_df['win_by_wickets'].idxmax()]"
      ],
      "execution_count": null,
      "outputs": [
        {
          "data": {
            "text/plain": [
              "id                                                      3\n",
              "season                                               2017\n",
              "city                                               Rajkot\n",
              "date                                           2017-04-07\n",
              "team1                                                  GL\n",
              "team2                                                 KKR\n",
              "toss_winner                                           KKR\n",
              "toss_decision                                       field\n",
              "result                                             normal\n",
              "dl_applied                                              0\n",
              "winner                                                KKR\n",
              "win_by_runs                                             0\n",
              "win_by_wickets                                         10\n",
              "player_of_match                                   CA Lynn\n",
              "venue              Saurashtra Cricket Association Stadium\n",
              "umpire1                                       Nitin Menon\n",
              "umpire2                                         CK Nandan\n",
              "umpire3                                               NaN\n",
              "Name: 2, dtype: object"
            ]
          },
          "execution_count": null,
          "metadata": {},
          "output_type": "execute_result"
        }
      ]
    },
    {
      "cell_type": "markdown",
      "metadata": {
        "id": "t_pLRCSFcpGl"
      },
      "source": [
        "---\n",
        "**Match info for win by minimum wickets**"
      ]
    },
    {
      "cell_type": "code",
      "metadata": {
        "colab": {
          "background_save": true,
          "base_uri": "https://localhost:8080/"
        },
        "id": "iTpy6h5lcRMg",
        "outputId": "bc10d715-4f2f-460a-d05c-9a97da08d0ff"
      },
      "source": [
        "match_df.iloc[match_df[match_df['win_by_wickets'].ge(1)].win_by_wickets.idxmin()]"
      ],
      "execution_count": null,
      "outputs": [
        {
          "data": {
            "text/plain": [
              "id                             560\n",
              "season                        2015\n",
              "city                       Kolkata\n",
              "date                    2015-05-09\n",
              "team1                         KXIP\n",
              "team2                          KKR\n",
              "toss_winner                   KXIP\n",
              "toss_decision                  bat\n",
              "result                      normal\n",
              "dl_applied                       0\n",
              "winner                         KKR\n",
              "win_by_runs                      0\n",
              "win_by_wickets                   1\n",
              "player_of_match         AD Russell\n",
              "venue                 Eden Gardens\n",
              "umpire1               AK Chaudhary\n",
              "umpire2            HDPK Dharmasena\n",
              "umpire3                        NaN\n",
              "Name: 559, dtype: object"
            ]
          },
          "execution_count": null,
          "metadata": {},
          "output_type": "execute_result"
        }
      ]
    },
    {
      "cell_type": "markdown",
      "metadata": {
        "id": "n1Ilg6u3dU-H"
      },
      "source": [
        "---\n",
        "**Maximum Title Winners**"
      ]
    },
    {
      "cell_type": "code",
      "metadata": {
        "colab": {
          "background_save": true,
          "base_uri": "https://localhost:8080/",
          "height": 421
        },
        "id": "z-Lnw7oXd19e",
        "outputId": "f7dbe5ca-a87d-473e-c5a6-9b42e3ea18fb"
      },
      "source": [
        "winner = match_df[['season','winner']]\n",
        "\n",
        "title = {}\n",
        "for x in sorted(winner.season.unique()):\n",
        "    title[x] = winner[winner.season == x]['winner'].tail(1).values[0]\n",
        "\n",
        "title_winner = pd.DataFrame(pd.Series(title), columns=['season_winner'])\n",
        "title_winner\n"
      ],
      "execution_count": null,
      "outputs": [
        {
          "data": {
            "text/html": [
              "<div>\n",
              "<style scoped>\n",
              "    .dataframe tbody tr th:only-of-type {\n",
              "        vertical-align: middle;\n",
              "    }\n",
              "\n",
              "    .dataframe tbody tr th {\n",
              "        vertical-align: top;\n",
              "    }\n",
              "\n",
              "    .dataframe thead th {\n",
              "        text-align: right;\n",
              "    }\n",
              "</style>\n",
              "<table border=\"1\" class=\"dataframe\">\n",
              "  <thead>\n",
              "    <tr style=\"text-align: right;\">\n",
              "      <th></th>\n",
              "      <th>season_winner</th>\n",
              "    </tr>\n",
              "  </thead>\n",
              "  <tbody>\n",
              "    <tr>\n",
              "      <th>2008</th>\n",
              "      <td>RR</td>\n",
              "    </tr>\n",
              "    <tr>\n",
              "      <th>2009</th>\n",
              "      <td>DC(old)</td>\n",
              "    </tr>\n",
              "    <tr>\n",
              "      <th>2010</th>\n",
              "      <td>CSK</td>\n",
              "    </tr>\n",
              "    <tr>\n",
              "      <th>2011</th>\n",
              "      <td>CSK</td>\n",
              "    </tr>\n",
              "    <tr>\n",
              "      <th>2012</th>\n",
              "      <td>KKR</td>\n",
              "    </tr>\n",
              "    <tr>\n",
              "      <th>2013</th>\n",
              "      <td>MI</td>\n",
              "    </tr>\n",
              "    <tr>\n",
              "      <th>2014</th>\n",
              "      <td>KKR</td>\n",
              "    </tr>\n",
              "    <tr>\n",
              "      <th>2015</th>\n",
              "      <td>MI</td>\n",
              "    </tr>\n",
              "    <tr>\n",
              "      <th>2016</th>\n",
              "      <td>SRH</td>\n",
              "    </tr>\n",
              "    <tr>\n",
              "      <th>2017</th>\n",
              "      <td>MI</td>\n",
              "    </tr>\n",
              "    <tr>\n",
              "      <th>2018</th>\n",
              "      <td>CSK</td>\n",
              "    </tr>\n",
              "    <tr>\n",
              "      <th>2019</th>\n",
              "      <td>MI</td>\n",
              "    </tr>\n",
              "  </tbody>\n",
              "</table>\n",
              "</div>"
            ],
            "text/plain": [
              "     season_winner\n",
              "2008            RR\n",
              "2009       DC(old)\n",
              "2010           CSK\n",
              "2011           CSK\n",
              "2012           KKR\n",
              "2013            MI\n",
              "2014           KKR\n",
              "2015            MI\n",
              "2016           SRH\n",
              "2017            MI\n",
              "2018           CSK\n",
              "2019            MI"
            ]
          },
          "execution_count": null,
          "metadata": {},
          "output_type": "execute_result"
        }
      ]
    },
    {
      "cell_type": "code",
      "metadata": {
        "colab": {
          "background_save": true,
          "base_uri": "https://localhost:8080/",
          "height": 483
        },
        "id": "509p3E0QqTvq",
        "outputId": "ee1963e3-77dd-4064-f981-5070b7933e3e"
      },
      "source": [
        "g = title_winner['season_winner'].value_counts().plot.barh(figsize=(12,6))\n",
        "g.invert_yaxis()\n",
        "g.set_title(\"Teams with most number of Titles\\n\", fontsize = 16, fontweight = 'bold')\n",
        "g.set_xlabel(\"Number of Titles won\\n\\n\", fontsize = 16, fontweight = 'bold')\n",
        "plt.yticks(size = 18)\n",
        "plt.yticks(size = 14)\n",
        "\n",
        "for t in g.patches:\n",
        "    g.text(t.get_width()+0.05,t.get_y()+0.3, t.get_width(), fontsize = 10, fontweight = 'bold')\n",
        "\n",
        "g"
      ],
      "execution_count": null,
      "outputs": [
        {
          "data": {
            "text/plain": [
              "<matplotlib.axes._subplots.AxesSubplot at 0x7fc77d04b610>"
            ]
          },
          "execution_count": null,
          "metadata": {},
          "output_type": "execute_result"
        },
        {
          "data": {
            "image/png": "[encoded data removed]",
            "text/plain": [
              "<Figure size 864x432 with 1 Axes>"
            ]
          },
          "metadata": {},
          "output_type": "display_data"
        }
      ]
    },
    {
      "cell_type": "markdown",
      "metadata": {
        "id": "0Gkk_Ed3tTDf"
      },
      "source": [
        "---\n",
        "**Team with most number of Toss Wins**"
      ]
    },
    {
      "cell_type": "code",
      "metadata": {
        "colab": {
          "background_save": true,
          "base_uri": "https://localhost:8080/",
          "height": 623
        },
        "id": "MbPy-g-2sFyg",
        "outputId": "acdfda9d-657c-4e8c-cbf3-91e5d206d197"
      },
      "source": [
        "toss = match_df.toss_winner.value_counts()\n",
        "print(toss)\n",
        "\n",
        "\n",
        "fig, ax = plt.subplots()\n",
        "ax.set_ylim([0,100])\n",
        "ax.set_title(\"Most number of Toss Winners\" ,fontsize =18, fontweight='bold')\n",
        "sns.barplot(x = toss.index, y = toss, orient='v')\n",
        "plt.xticks(size=16)\n",
        "plt.yticks(size=16)\n",
        "\n",
        "plt.show()"
      ],
      "execution_count": null,
      "outputs": [
        {
          "name": "stdout",
          "output_type": "stream",
          "text": [
            "MI         98\n",
            "KKR        92\n",
            "CSK        89\n",
            "RCB        81\n",
            "KXIP       81\n",
            "RR         80\n",
            "DD         80\n",
            "SRH        46\n",
            "DC(old)    43\n",
            "PW         20\n",
            "GL         15\n",
            "RPS        13\n",
            "DC(new)    10\n",
            "KTK         8\n",
            "Name: toss_winner, dtype: int64\n"
          ]
        },
        {
          "data": {
            "image/png": "[encoded data removed]",
            "text/plain": [
              "<Figure size 432x288 with 1 Axes>"
            ]
          },
          "metadata": {},
          "output_type": "display_data"
        }
      ]
    },
    {
      "cell_type": "markdown",
      "metadata": {
        "id": "nsduTuWOvONo"
      },
      "source": [
        "---\n",
        "**Decision after winning the toss**"
      ]
    },
    {
      "cell_type": "code",
      "metadata": {
        "colab": {
          "background_save": true,
          "base_uri": "https://localhost:8080/",
          "height": 388
        },
        "id": "OFA45gjcuIUv",
        "outputId": "ef1849d1-e9d5-4c22-9403-0049b1fc0cf3"
      },
      "source": [
        "decision = match_df['toss_decision'].value_counts()\n",
        "\n",
        "fig, ax = plt.subplots()\n",
        "ax.set_ylim([0,500])\n",
        "ax.set_title(\"Decision after winning the Toss\", fontsize =18, fontweight='bold')\n",
        "sns.barplot(x = decision.index, y = decision, orient='v')\n",
        "plt.xticks(size=20)\n",
        "plt.yticks(size=16)\n",
        "\n",
        "total = []\n",
        "for i in ax.patches:\n",
        "    total.append(i.get_height())\n",
        "\n",
        "t = sum(total)\n",
        "print(t)\n",
        "\n",
        "for i in ax.patches:\n",
        "    ax.text(i.get_x()+0.3, i.get_height(), str(round((i.get_height()/t)*100,2))+'%',fontsize=30)\n",
        "\n",
        "plt.show()"
      ],
      "execution_count": null,
      "outputs": [
        {
          "name": "stdout",
          "output_type": "stream",
          "text": [
            "756.0\n"
          ]
        },
        {
          "data": {
            "image/png": "[encoded data removed]",
            "text/plain": [
              "<Figure size 432x288 with 1 Axes>"
            ]
          },
          "metadata": {},
          "output_type": "display_data"
        }
      ]
    },
    {
      "cell_type": "markdown",
      "metadata": {
        "id": "sGNbitokw5bV"
      },
      "source": [
        "---\n",
        "**Most wins batting 1st/2nd**"
      ]
    },
    {
      "cell_type": "code",
      "metadata": {
        "colab": {
          "background_save": true,
          "base_uri": "https://localhost:8080/"
        },
        "id": "4HtqkdBmw4cJ",
        "outputId": "d183f724-1910-4e5e-e2ee-104613294991"
      },
      "source": [
        "bat1 = match_df.winner[match_df.win_by_runs != 0].value_counts()\n",
        "bat1"
      ],
      "execution_count": null,
      "outputs": [
        {
          "data": {
            "text/plain": [
              "MI         57\n",
              "CSK        52\n",
              "KXIP       38\n",
              "KKR        36\n",
              "RCB        35\n",
              "SRH        30\n",
              "RR         27\n",
              "DD         25\n",
              "DC(old)    18\n",
              "RPS         7\n",
              "PW          6\n",
              "DC(new)     3\n",
              "KTK         2\n",
              "GL          1\n",
              "Name: winner, dtype: int64"
            ]
          },
          "execution_count": null,
          "metadata": {},
          "output_type": "execute_result"
        }
      ]
    },
    {
      "cell_type": "code",
      "metadata": {
        "colab": {
          "background_save": true,
          "base_uri": "https://localhost:8080/",
          "height": 483
        },
        "id": "DaTh8qtE1t9v",
        "outputId": "2a135863-9468-4ab7-b64c-e48996515c32"
      },
      "source": [
        "g = bat1.plot.barh(figsize=(12,6))\n",
        "g.invert_yaxis()\n",
        "g.set_title(\"Matches win while Batting First\\n\", fontsize = 16, fontweight = 'bold')\n",
        "g.set_xlabel(\"Number of matches won\\n\\n\", fontsize = 16, fontweight = 'bold')\n",
        "plt.yticks(size = 18)\n",
        "plt.yticks(size = 14)\n",
        "\n",
        "for t in g.patches:\n",
        "    g.text(t.get_width()+0.05,t.get_y()+0.3, t.get_width(), fontsize = 10, fontweight = 'bold')\n",
        "\n",
        "g"
      ],
      "execution_count": null,
      "outputs": [
        {
          "data": {
            "text/plain": [
              "<matplotlib.axes._subplots.AxesSubplot at 0x7fc77bf8a510>"
            ]
          },
          "execution_count": null,
          "metadata": {},
          "output_type": "execute_result"
        },
        {
          "data": {
            "image/png": "[encoded data removed]",
            "text/plain": [
              "<Figure size 864x432 with 1 Axes>"
            ]
          },
          "metadata": {},
          "output_type": "display_data"
        }
      ]
    },
    {
      "cell_type": "code",
      "metadata": {
        "colab": {
          "background_save": true,
          "base_uri": "https://localhost:8080/"
        },
        "id": "fsm_cPbxxmSg",
        "outputId": "1033689e-d6bb-4e07-c244-ab622c9efa39"
      },
      "source": [
        "bat2 = match_df.winner[match_df.win_by_wickets != 0].value_counts()\n",
        "bat2"
      ],
      "execution_count": null,
      "outputs": [
        {
          "data": {
            "text/plain": [
              "KKR        56\n",
              "MI         50\n",
              "CSK        48\n",
              "RCB        48\n",
              "RR         46\n",
              "DD         42\n",
              "KXIP       42\n",
              "SRH        27\n",
              "GL         12\n",
              "DC(old)    11\n",
              "RPS         8\n",
              "PW          6\n",
              "DC(new)     6\n",
              "KTK         4\n",
              "Name: winner, dtype: int64"
            ]
          },
          "execution_count": null,
          "metadata": {},
          "output_type": "execute_result"
        }
      ]
    },
    {
      "cell_type": "code",
      "metadata": {
        "colab": {
          "background_save": true,
          "base_uri": "https://localhost:8080/",
          "height": 483
        },
        "id": "vPcYRhtV2Gc2",
        "outputId": "e2ff8e7a-685e-40bc-f8a0-bb961ea6965d"
      },
      "source": [
        "g = bat2.plot.barh(figsize=(12,6))\n",
        "g.invert_yaxis()\n",
        "g.set_title(\"Matches win while Batting Second\\n\", fontsize = 16, fontweight = 'bold')\n",
        "g.set_xlabel(\"Number of matches won\\n\\n\", fontsize = 16, fontweight = 'bold')\n",
        "plt.yticks(size = 18)\n",
        "plt.yticks(size = 14)\n",
        "\n",
        "for t in g.patches:\n",
        "    g.text(t.get_width()+0.05,t.get_y()+0.3, t.get_width(), fontsize = 10, fontweight = 'bold')\n",
        "\n",
        "g"
      ],
      "execution_count": null,
      "outputs": [
        {
          "data": {
            "text/plain": [
              "<matplotlib.axes._subplots.AxesSubplot at 0x7fc77be61450>"
            ]
          },
          "execution_count": null,
          "metadata": {},
          "output_type": "execute_result"
        },
        {
          "data": {
            "image/png": "[encoded data removed]",
            "text/plain": [
              "<Figure size 864x432 with 1 Axes>"
            ]
          },
          "metadata": {},
          "output_type": "display_data"
        }
      ]
    },
    {
      "cell_type": "markdown",
      "metadata": {
        "id": "e9nRcTBCx7zF"
      },
      "source": [
        "---\n",
        "**Close Wins**"
      ]
    },
    {
      "cell_type": "code",
      "metadata": {
        "colab": {
          "background_save": true,
          "base_uri": "https://localhost:8080/"
        },
        "id": "nWeGGi-cyBMu",
        "outputId": "a992ad1d-4dc0-4ff3-80ee-a16e463c47f0"
      },
      "source": [
        "run1 = match_df.winner[match_df.win_by_runs == 1].value_counts()\n",
        "run1"
      ],
      "execution_count": null,
      "outputs": [
        {
          "data": {
            "text/plain": [
              "MI      3\n",
              "KXIP    2\n",
              "RCB     2\n",
              "DD      1\n",
              "CSK     1\n",
              "GL      1\n",
              "Name: winner, dtype: int64"
            ]
          },
          "execution_count": null,
          "metadata": {},
          "output_type": "execute_result"
        }
      ]
    },
    {
      "cell_type": "code",
      "metadata": {
        "colab": {
          "background_save": true,
          "base_uri": "https://localhost:8080/"
        },
        "id": "K8ieSaA5yYma",
        "outputId": "34b886ca-6bb2-4f45-8c2f-1e6d173e69b5"
      },
      "source": [
        "wicket1 = match_df.winner[match_df.win_by_wickets == 1].value_counts()\n",
        "wicket1"
      ],
      "execution_count": null,
      "outputs": [
        {
          "data": {
            "text/plain": [
              "KKR    1\n",
              "SRH    1\n",
              "CSK    1\n",
              "Name: winner, dtype: int64"
            ]
          },
          "execution_count": null,
          "metadata": {},
          "output_type": "execute_result"
        }
      ]
    },
    {
      "cell_type": "markdown",
      "metadata": {
        "id": "az8JRF4Xvqs1"
      },
      "source": [
        "---\n",
        "**Dismissal Type**"
      ]
    },
    {
      "cell_type": "code",
      "metadata": {
        "colab": {
          "background_save": true,
          "base_uri": "https://localhost:8080/",
          "height": 480
        },
        "id": "P5wYazOBvt1V",
        "outputId": "dd80aa2e-22f1-4c59-b631-47e4e40b587d"
      },
      "source": [
        "dismiss = delivery_df['dismissal_kind'].value_counts().sort_values(ascending=False)\n",
        "\n",
        "fig, ax = plt.subplots(figsize = (20.0, 7.0))\n",
        "ax.set_ylim([0,6000])\n",
        "ax.set_title(\"Dismissal Type\", fontsize=20, fontweight='bold')\n",
        "sns.barplot(x = dismiss.index, y = dismiss, orient='v')\n",
        "plt.xlabel(\"Dismissal Type\", fontsize=20, fontweight='bold')\n",
        "plt.ylabel(\"No of times\", fontsize=20, fontweight='bold')\n",
        "plt.xticks(size=16)\n",
        "plt.yticks(size=16)\n",
        "for t in ax.patches:\n",
        "    ax.text(t.get_x()+0.3,t.get_height()+0.3, int(t.get_height()), fontsize = 16, fontweight = 'bold')\n",
        "plt.show()"
      ],
      "execution_count": null,
      "outputs": [
        {
          "data": {
            "image/png": "[encoded data removed]",
            "text/plain": [
              "<Figure size 1440x504 with 1 Axes>"
            ]
          },
          "metadata": {},
          "output_type": "display_data"
        }
      ]
    },
    {
      "cell_type": "markdown",
      "metadata": {
        "id": "8kg07sHMumQG"
      },
      "source": [
        "---\n",
        "**D/L Method**"
      ]
    },
    {
      "cell_type": "code",
      "metadata": {
        "colab": {
          "background_save": true,
          "base_uri": "https://localhost:8080/",
          "height": 388
        },
        "id": "sazGjMVKuqLE",
        "outputId": "1515a6a2-3a55-4a00-eb11-7277352de61d"
      },
      "source": [
        "dl = match_df['dl_applied'].value_counts()\n",
        "\n",
        "fig, ax = plt.subplots()\n",
        "ax.set_ylim([0,800])\n",
        "ax.set_title(\"D/L method Applied\", fontsize =18, fontweight='bold')\n",
        "sns.barplot(x = dl.index, y = dl, orient='v')\n",
        "plt.xticks(size=20)\n",
        "plt.yticks(size=16)\n",
        "\n",
        "total = []\n",
        "for i in ax.patches:\n",
        "    total.append(i.get_height())\n",
        "\n",
        "t = sum(total)\n",
        "print(t)\n",
        "\n",
        "for i in ax.patches:\n",
        "    ax.text(i.get_x()+0.3, i.get_height(), str(round((i.get_height()/t)*100,2))+'%',fontsize=30)\n",
        "\n",
        "plt.show()"
      ],
      "execution_count": null,
      "outputs": [
        {
          "name": "stdout",
          "output_type": "stream",
          "text": [
            "756.0\n"
          ]
        },
        {
          "data": {
            "image/png": "[encoded data removed]",
            "text/plain": [
              "<Figure size 432x288 with 1 Axes>"
            ]
          },
          "metadata": {},
          "output_type": "display_data"
        }
      ]
    },
    {
      "cell_type": "markdown",
      "metadata": {
        "id": "NTzC7GCWxL4d"
      },
      "source": [
        "---\n",
        "**Super Over**"
      ]
    },
    {
      "cell_type": "code",
      "metadata": {
        "colab": {
          "background_save": true,
          "base_uri": "https://localhost:8080/",
          "height": 480
        },
        "id": "BwytSi8AxO2l",
        "outputId": "0100f27c-441b-4ddb-dc85-ff0433b2c0ad"
      },
      "source": [
        "super = delivery_df['is_super_over'].value_counts().sort_values(ascending=False)\n",
        "\n",
        "fig, ax = plt.subplots(figsize = (20.0, 7.0))\n",
        "ax.set_ylim([0,200000])\n",
        "ax.set_title(\"Super Over\", fontsize=20, fontweight='bold')\n",
        "sns.barplot(x = super.index, y = super, orient='v')\n",
        "plt.xlabel(\"Super Over\", fontsize=20, fontweight='bold')\n",
        "plt.ylabel(\"No of times\", fontsize=20, fontweight='bold')\n",
        "plt.xticks(size=16)\n",
        "plt.yticks(size=16)\n",
        "for t in ax.patches:\n",
        "    ax.text(t.get_x()+0.3,t.get_height()+0.3, int(t.get_height()), fontsize = 16, fontweight = 'bold')\n",
        "plt.show()"
      ],
      "execution_count": null,
      "outputs": [
        {
          "data": {
            "image/png": "[encoded data removed]",
            "text/plain": [
              "<Figure size 1440x504 with 1 Axes>"
            ]
          },
          "metadata": {},
          "output_type": "display_data"
        }
      ]
    },
    {
      "cell_type": "markdown",
      "metadata": {
        "id": "Yu3OyIcF6ado"
      },
      "source": [
        "#**IPL Player Analysis**\n",
        "---"
      ]
    },
    {
      "cell_type": "code",
      "metadata": {
        "colab": {
          "background_save": true,
          "base_uri": "https://localhost:8080/",
          "height": 309
        },
        "id": "Ygg-s9DKBcVR",
        "outputId": "99abbd7b-e2d5-4b68-ded6-d11008f82644"
      },
      "source": [
        "delivery_df.head()"
      ],
      "execution_count": null,
      "outputs": [
        {
          "data": {
            "text/html": [
              "<div>\n",
              "<style scoped>\n",
              "    .dataframe tbody tr th:only-of-type {\n",
              "        vertical-align: middle;\n",
              "    }\n",
              "\n",
              "    .dataframe tbody tr th {\n",
              "        vertical-align: top;\n",
              "    }\n",
              "\n",
              "    .dataframe thead th {\n",
              "        text-align: right;\n",
              "    }\n",
              "</style>\n",
              "<table border=\"1\" class=\"dataframe\">\n",
              "  <thead>\n",
              "    <tr style=\"text-align: right;\">\n",
              "      <th></th>\n",
              "      <th>match_id</th>\n",
              "      <th>inning</th>\n",
              "      <th>batting_team</th>\n",
              "      <th>bowling_team</th>\n",
              "      <th>over</th>\n",
              "      <th>ball</th>\n",
              "      <th>batsman</th>\n",
              "      <th>non_striker</th>\n",
              "      <th>bowler</th>\n",
              "      <th>is_super_over</th>\n",
              "      <th>wide_runs</th>\n",
              "      <th>bye_runs</th>\n",
              "      <th>legbye_runs</th>\n",
              "      <th>noball_runs</th>\n",
              "      <th>penalty_runs</th>\n",
              "      <th>batsman_runs</th>\n",
              "      <th>extra_runs</th>\n",
              "      <th>total_runs</th>\n",
              "      <th>player_dismissed</th>\n",
              "      <th>dismissal_kind</th>\n",
              "      <th>fielder</th>\n",
              "    </tr>\n",
              "  </thead>\n",
              "  <tbody>\n",
              "    <tr>\n",
              "      <th>0</th>\n",
              "      <td>1</td>\n",
              "      <td>1</td>\n",
              "      <td>SRH</td>\n",
              "      <td>RCB</td>\n",
              "      <td>1</td>\n",
              "      <td>1</td>\n",
              "      <td>DA Warner</td>\n",
              "      <td>S Dhawan</td>\n",
              "      <td>TS Mills</td>\n",
              "      <td>0</td>\n",
              "      <td>0</td>\n",
              "      <td>0</td>\n",
              "      <td>0</td>\n",
              "      <td>0</td>\n",
              "      <td>0</td>\n",
              "      <td>0</td>\n",
              "      <td>0</td>\n",
              "      <td>0</td>\n",
              "      <td>NaN</td>\n",
              "      <td>NaN</td>\n",
              "      <td>NaN</td>\n",
              "    </tr>\n",
              "    <tr>\n",
              "      <th>1</th>\n",
              "      <td>1</td>\n",
              "      <td>1</td>\n",
              "      <td>SRH</td>\n",
              "      <td>RCB</td>\n",
              "      <td>1</td>\n",
              "      <td>2</td>\n",
              "      <td>DA Warner</td>\n",
              "      <td>S Dhawan</td>\n",
              "      <td>TS Mills</td>\n",
              "      <td>0</td>\n",
              "      <td>0</td>\n",
              "      <td>0</td>\n",
              "      <td>0</td>\n",
              "      <td>0</td>\n",
              "      <td>0</td>\n",
              "      <td>0</td>\n",
              "      <td>0</td>\n",
              "      <td>0</td>\n",
              "      <td>NaN</td>\n",
              "      <td>NaN</td>\n",
              "      <td>NaN</td>\n",
              "    </tr>\n",
              "    <tr>\n",
              "      <th>2</th>\n",
              "      <td>1</td>\n",
              "      <td>1</td>\n",
              "      <td>SRH</td>\n",
              "      <td>RCB</td>\n",
              "      <td>1</td>\n",
              "      <td>3</td>\n",
              "      <td>DA Warner</td>\n",
              "      <td>S Dhawan</td>\n",
              "      <td>TS Mills</td>\n",
              "      <td>0</td>\n",
              "      <td>0</td>\n",
              "      <td>0</td>\n",
              "      <td>0</td>\n",
              "      <td>0</td>\n",
              "      <td>0</td>\n",
              "      <td>4</td>\n",
              "      <td>0</td>\n",
              "      <td>4</td>\n",
              "      <td>NaN</td>\n",
              "      <td>NaN</td>\n",
              "      <td>NaN</td>\n",
              "    </tr>\n",
              "    <tr>\n",
              "      <th>3</th>\n",
              "      <td>1</td>\n",
              "      <td>1</td>\n",
              "      <td>SRH</td>\n",
              "      <td>RCB</td>\n",
              "      <td>1</td>\n",
              "      <td>4</td>\n",
              "      <td>DA Warner</td>\n",
              "      <td>S Dhawan</td>\n",
              "      <td>TS Mills</td>\n",
              "      <td>0</td>\n",
              "      <td>0</td>\n",
              "      <td>0</td>\n",
              "      <td>0</td>\n",
              "      <td>0</td>\n",
              "      <td>0</td>\n",
              "      <td>0</td>\n",
              "      <td>0</td>\n",
              "      <td>0</td>\n",
              "      <td>NaN</td>\n",
              "      <td>NaN</td>\n",
              "      <td>NaN</td>\n",
              "    </tr>\n",
              "    <tr>\n",
              "      <th>4</th>\n",
              "      <td>1</td>\n",
              "      <td>1</td>\n",
              "      <td>SRH</td>\n",
              "      <td>RCB</td>\n",
              "      <td>1</td>\n",
              "      <td>5</td>\n",
              "      <td>DA Warner</td>\n",
              "      <td>S Dhawan</td>\n",
              "      <td>TS Mills</td>\n",
              "      <td>0</td>\n",
              "      <td>2</td>\n",
              "      <td>0</td>\n",
              "      <td>0</td>\n",
              "      <td>0</td>\n",
              "      <td>0</td>\n",
              "      <td>0</td>\n",
              "      <td>2</td>\n",
              "      <td>2</td>\n",
              "      <td>NaN</td>\n",
              "      <td>NaN</td>\n",
              "      <td>NaN</td>\n",
              "    </tr>\n",
              "  </tbody>\n",
              "</table>\n",
              "</div>"
            ],
            "text/plain": [
              "   match_id  inning batting_team  ... player_dismissed  dismissal_kind  fielder\n",
              "0         1       1          SRH  ...              NaN             NaN      NaN\n",
              "1         1       1          SRH  ...              NaN             NaN      NaN\n",
              "2         1       1          SRH  ...              NaN             NaN      NaN\n",
              "3         1       1          SRH  ...              NaN             NaN      NaN\n",
              "4         1       1          SRH  ...              NaN             NaN      NaN\n",
              "\n",
              "[5 rows x 21 columns]"
            ]
          },
          "execution_count": null,
          "metadata": {},
          "output_type": "execute_result"
        }
      ]
    },
    {
      "cell_type": "code",
      "metadata": {
        "colab": {
          "background_save": true,
          "base_uri": "https://localhost:8080/"
        },
        "id": "mVO15ybkBuQs",
        "outputId": "7ddb2fcb-7ddd-4230-e1e1-d41592a10211"
      },
      "source": [
        "delivery_df.info()"
      ],
      "execution_count": null,
      "outputs": [
        {
          "name": "stdout",
          "output_type": "stream",
          "text": [
            "<class 'pandas.core.frame.DataFrame'>\n",
            "RangeIndex: 179078 entries, 0 to 179077\n",
            "Data columns (total 21 columns):\n",
            " #   Column            Non-Null Count   Dtype \n",
            "---  ------            --------------   ----- \n",
            " 0   match_id          179078 non-null  int64 \n",
            " 1   inning            179078 non-null  int64 \n",
            " 2   batting_team      179078 non-null  object\n",
            " 3   bowling_team      179078 non-null  object\n",
            " 4   over              179078 non-null  int64 \n",
            " 5   ball              179078 non-null  int64 \n",
            " 6   batsman           179078 non-null  object\n",
            " 7   non_striker       179078 non-null  object\n",
            " 8   bowler            179078 non-null  object\n",
            " 9   is_super_over     179078 non-null  int64 \n",
            " 10  wide_runs         179078 non-null  int64 \n",
            " 11  bye_runs          179078 non-null  int64 \n",
            " 12  legbye_runs       179078 non-null  int64 \n",
            " 13  noball_runs       179078 non-null  int64 \n",
            " 14  penalty_runs      179078 non-null  int64 \n",
            " 15  batsman_runs      179078 non-null  int64 \n",
            " 16  extra_runs        179078 non-null  int64 \n",
            " 17  total_runs        179078 non-null  int64 \n",
            " 18  player_dismissed  8834 non-null    object\n",
            " 19  dismissal_kind    8834 non-null    object\n",
            " 20  fielder           6448 non-null    object\n",
            "dtypes: int64(13), object(8)\n",
            "memory usage: 28.7+ MB\n"
          ]
        }
      ]
    },
    {
      "cell_type": "markdown",
      "metadata": {
        "id": "kokY5m9H8wn8"
      },
      "source": [
        "---\n",
        "**Total number of Batsman batted in IPL**"
      ]
    },
    {
      "cell_type": "code",
      "metadata": {
        "colab": {
          "background_save": true,
          "base_uri": "https://localhost:8080/"
        },
        "id": "qAnjkx1y7cQd",
        "outputId": "f81540e0-0ce5-4161-bd74-199bd72513f6"
      },
      "source": [
        "len(delivery_df['batsman'].unique())"
      ],
      "execution_count": null,
      "outputs": [
        {
          "data": {
            "text/plain": [
              "516"
            ]
          },
          "execution_count": null,
          "metadata": {},
          "output_type": "execute_result"
        }
      ]
    },
    {
      "cell_type": "markdown",
      "metadata": {
        "id": "T9nLC6HK86iz"
      },
      "source": [
        "---\n",
        "**Total number of Bowlers bowled in IPL**"
      ]
    },
    {
      "cell_type": "code",
      "metadata": {
        "colab": {
          "background_save": true,
          "base_uri": "https://localhost:8080/"
        },
        "id": "pKHLMjKJ8-8F",
        "outputId": "526d38e0-201b-4bbe-f691-52d761f66348"
      },
      "source": [
        "len(delivery_df['bowler'].unique())"
      ],
      "execution_count": null,
      "outputs": [
        {
          "data": {
            "text/plain": [
              "405"
            ]
          },
          "execution_count": null,
          "metadata": {},
          "output_type": "execute_result"
        }
      ]
    },
    {
      "cell_type": "markdown",
      "metadata": {
        "id": "p02PBtRoCibc"
      },
      "source": [
        "---\n",
        "**Most number of deliveries by any Batsman**"
      ]
    },
    {
      "cell_type": "code",
      "metadata": {
        "colab": {
          "background_save": true,
          "base_uri": "https://localhost:8080/"
        },
        "id": "5v0HS2VTC0wS",
        "outputId": "0cee3901-bee1-484b-9f5a-4024eae12af3"
      },
      "source": [
        "batsmen = delivery_df['batsman'].value_counts()[:10]\n",
        "batsmen"
      ],
      "execution_count": null,
      "outputs": [
        {
          "data": {
            "text/plain": [
              "V Kohli       4211\n",
              "SK Raina      4044\n",
              "RG Sharma     3816\n",
              "S Dhawan      3776\n",
              "G Gambhir     3524\n",
              "RV Uthappa    3492\n",
              "DA Warner     3398\n",
              "MS Dhoni      3318\n",
              "AM Rahane     3215\n",
              "CH Gayle      3131\n",
              "Name: batsman, dtype: int64"
            ]
          },
          "execution_count": null,
          "metadata": {},
          "output_type": "execute_result"
        }
      ]
    },
    {
      "cell_type": "code",
      "metadata": {
        "colab": {
          "base_uri": "https://localhost:8080/"
        },
        "id": "RYjhUVYKEsdf",
        "outputId": "0bbaaf59-9ccb-41ff-bfe4-2f102d4784b0"
      },
      "source": [
        "fig, ax = plt.subplots(figsize = (20.0, 7.0))\n",
        "ax.set_ylim([0,6000])\n",
        "ax.set_title(\"Batsmen with most ball faced\", fontsize=20, fontweight='bold')\n",
        "sns.barplot(x = batsmen.index, y = batsmen, orient='v')\n",
        "plt.xticks(size=16)\n",
        "plt.yticks(size=16)\n",
        "for t in ax.patches:\n",
        "    ax.text(t.get_x()+0.3,t.get_height()+0.3, int(t.get_height()), fontsize = 16, fontweight = 'bold')\n",
        "plt.show()"
      ],
      "execution_count": null,
      "outputs": [
        {
          "output_type": "display_data",
          "data": {
            "image/png": "[encoded data removed]",
            "text/plain": [
              "<Figure size 1440x504 with 1 Axes>"
            ]
          },
          "metadata": {
            "needs_background": "light"
          }
        }
      ]
    },
    {
      "cell_type": "markdown",
      "metadata": {
        "id": "7CV7Y7MeFILQ"
      },
      "source": [
        "---\n",
        "**Bowlers with most ball bowled**"
      ]
    },
    {
      "cell_type": "code",
      "metadata": {
        "colab": {
          "base_uri": "https://localhost:8080/"
        },
        "id": "HFBOQxdMFOGg",
        "outputId": "100fe7d0-395b-42e5-e484-e319af33c85a"
      },
      "source": [
        "bowler = delivery_df['bowler'].value_counts()[:10]\n",
        "bowler"
      ],
      "execution_count": null,
      "outputs": [
        {
          "output_type": "execute_result",
          "data": {
            "text/plain": [
              "Harbhajan Singh    3451\n",
              "A Mishra           3172\n",
              "PP Chawla          3157\n",
              "R Ashwin           3016\n",
              "SL Malinga         2974\n",
              "DJ Bravo           2711\n",
              "B Kumar            2707\n",
              "P Kumar            2637\n",
              "UT Yadav           2605\n",
              "SP Narine          2600\n",
              "Name: bowler, dtype: int64"
            ]
          },
          "metadata": {},
          "execution_count": 133
        }
      ]
    },
    {
      "cell_type": "code",
      "metadata": {
        "colab": {
          "base_uri": "https://localhost:8080/"
        },
        "id": "xrVOJRROFYcC",
        "outputId": "9fe20730-1f18-4f9f-ef9d-cd796c896604"
      },
      "source": [
        "fig, ax = plt.subplots(figsize = (20.0, 7.0))\n",
        "ax.set_ylim([0,4000])\n",
        "ax.set_title(\"Bowlers with most ball bowled\", fontsize=20, fontweight='bold')\n",
        "sns.barplot(x = bowler.index, y = bowler, orient='v')\n",
        "plt.xticks(size=16)\n",
        "plt.yticks(size=16)\n",
        "for t in ax.patches:\n",
        "    ax.text(t.get_x()+0.3,t.get_height()+0.3, int(t.get_height()), fontsize = 16, fontweight = 'bold')\n",
        "plt.show()"
      ],
      "execution_count": null,
      "outputs": [
        {
          "output_type": "display_data",
          "data": {
            "image/png": "[encoded data removed]",
            "text/plain": [
              "<Figure size 1440x504 with 1 Axes>"
            ]
          },
          "metadata": {
            "needs_background": "light"
          }
        }
      ]
    },
    {
      "cell_type": "markdown",
      "metadata": {
        "id": "Km55rzdDF8aN"
      },
      "source": [
        "---\n",
        "**Players with most runs**"
      ]
    },
    {
      "cell_type": "code",
      "metadata": {
        "colab": {
          "base_uri": "https://localhost:8080/"
        },
        "id": "yRikFA9LGDrO",
        "outputId": "2ebfb5f7-6dcf-4a0f-bbd3-1aef26d990d0"
      },
      "source": [
        "batsmen = delivery_df.groupby('batsman')['batsman_runs'].sum().sort_values(ascending=False)[:10]\n",
        "\n",
        "fig, ax = plt.subplots(figsize = (20.0, 7.0))\n",
        "ax.set_ylim([0,6000])\n",
        "ax.set_title(\"Batsmen with most runs\", fontsize=20, fontweight='bold')\n",
        "sns.barplot(x = batsmen.index, y = batsmen, orient='v')\n",
        "plt.xticks(size=16)\n",
        "plt.yticks(size=16)\n",
        "for t in ax.patches:\n",
        "    ax.text(t.get_x()+0.2,t.get_height()+0.01, int(t.get_height()), fontsize = 16, fontweight = 'bold')\n",
        "plt.show()"
      ],
      "execution_count": null,
      "outputs": [
        {
          "output_type": "display_data",
          "data": {
            "image/png": "[encoded data removed]",
            "text/plain": [
              "<Figure size 1440x504 with 1 Axes>"
            ]
          },
          "metadata": {
            "needs_background": "light"
          }
        }
      ]
    },
    {
      "cell_type": "markdown",
      "metadata": {
        "id": "PGgoVVotHhYF"
      },
      "source": [
        "---\n",
        "**Compare Between Kohli, Raina, Rohit and Warner**"
      ]
    },
    {
      "cell_type": "code",
      "metadata": {
        "colab": {
          "background_save": true
        },
        "id": "YIQyJMvDHs1E"
      },
      "source": [
        "new_df = pd.merge(match_df,delivery_df, left_on='id',right_on='match_id')"
      ],
      "execution_count": null,
      "outputs": []
    },
    {
      "cell_type": "code",
      "metadata": {
        "colab": {
          "background_save": true
        },
        "id": "8JThUQLfINjq"
      },
      "source": [
        "def Batsman (player):\n",
        "    df = new_df[new_df['batsman'] == player]\n",
        "    df = df.groupby('season')['batsman_runs'].sum()\n",
        "    return df"
      ],
      "execution_count": null,
      "outputs": []
    },
    {
      "cell_type": "code",
      "metadata": {
        "colab": {
          "background_save": true,
          "base_uri": "https://localhost:8080/"
        },
        "id": "cfCRejtYJKne",
        "outputId": "2d9168f9-bbbc-4d1d-9ed4-8f1fdab5804d"
      },
      "source": [
        "kohli = Batsman('V Kohli')\n",
        "kohli"
      ],
      "execution_count": null,
      "outputs": [
        {
          "data": {
            "text/plain": [
              "season\n",
              "2008    165\n",
              "2009    246\n",
              "2010    307\n",
              "2011    557\n",
              "2012    364\n",
              "2013    639\n",
              "2014    359\n",
              "2015    505\n",
              "2016    973\n",
              "2017    308\n",
              "2018    539\n",
              "2019    472\n",
              "Name: batsman_runs, dtype: int64"
            ]
          },
          "execution_count": null,
          "metadata": {},
          "output_type": "execute_result"
        }
      ]
    },
    {
      "cell_type": "code",
      "metadata": {
        "colab": {
          "background_save": true,
          "base_uri": "https://localhost:8080/"
        },
        "id": "9iaeoabDJdJh",
        "outputId": "0d61b9d1-f9a8-4ab9-d9f5-a54fb936ea96"
      },
      "source": [
        "raina = Batsman('SK Raina')\n",
        "raina"
      ],
      "execution_count": null,
      "outputs": [
        {
          "data": {
            "text/plain": [
              "season\n",
              "2008    421\n",
              "2009    434\n",
              "2010    528\n",
              "2011    438\n",
              "2012    441\n",
              "2013    548\n",
              "2014    523\n",
              "2015    374\n",
              "2016    399\n",
              "2017    442\n",
              "2018    466\n",
              "2019    401\n",
              "Name: batsman_runs, dtype: int64"
            ]
          },
          "execution_count": null,
          "metadata": {},
          "output_type": "execute_result"
        }
      ]
    },
    {
      "cell_type": "code",
      "metadata": {
        "colab": {
          "background_save": true,
          "base_uri": "https://localhost:8080/"
        },
        "id": "ZjXh4tXYJnG6",
        "outputId": "c6cd34a1-ae10-4ee4-bb67-022dca0fae21"
      },
      "source": [
        "rohit = Batsman('RG Sharma')\n",
        "rohit"
      ],
      "execution_count": null,
      "outputs": [
        {
          "data": {
            "text/plain": [
              "season\n",
              "2008    404\n",
              "2009    362\n",
              "2010    404\n",
              "2011    372\n",
              "2012    433\n",
              "2013    538\n",
              "2014    390\n",
              "2015    482\n",
              "2016    489\n",
              "2017    333\n",
              "2018    297\n",
              "2019    410\n",
              "Name: batsman_runs, dtype: int64"
            ]
          },
          "execution_count": null,
          "metadata": {},
          "output_type": "execute_result"
        }
      ]
    },
    {
      "cell_type": "code",
      "metadata": {
        "colab": {
          "background_save": true,
          "base_uri": "https://localhost:8080/"
        },
        "id": "R-nRbP6tJv3S",
        "outputId": "a3d8673c-bbbc-4b46-9718-3faa64db0f00"
      },
      "source": [
        "warner = Batsman('DA Warner')\n",
        "warner"
      ],
      "execution_count": null,
      "outputs": [
        {
          "data": {
            "text/plain": [
              "season\n",
              "2009    163\n",
              "2010    282\n",
              "2011    324\n",
              "2012    256\n",
              "2013    410\n",
              "2014    528\n",
              "2015    562\n",
              "2016    848\n",
              "2017    641\n",
              "2019    727\n",
              "Name: batsman_runs, dtype: int64"
            ]
          },
          "execution_count": null,
          "metadata": {},
          "output_type": "execute_result"
        }
      ]
    },
    {
      "cell_type": "code",
      "metadata": {
        "colab": {
          "background_save": true,
          "base_uri": "https://localhost:8080/",
          "height": 305
        },
        "id": "baeb7mulJ_VK",
        "outputId": "c1756cc6-cd8d-4043-d00c-096753bbe79c"
      },
      "source": [
        "kohli.plot(kind = 'line', figsize = (15,5), linewidth =4, color = 'red', label='Kohli')\n",
        "raina.plot(kind = 'line', figsize = (15,5), linewidth =4, color = 'green', label='Raina')\n",
        "rohit.plot(kind = 'line', figsize = (15,5), linewidth =4, color = 'blue', label='Rohit')\n",
        "warner.plot(kind = 'line', figsize = (15,5), linewidth =4, color = 'orange', label='Warner')\n",
        "\n",
        "plt.title(\"Comparison of Best Run Scorers\", fontsize=20, fontweight='bold')\n",
        "plt.xlabel(\"Runs\", fontsize=20, fontweight='bold')\n",
        "plt.ylabel(\"Players\", fontsize=20, fontweight='bold')\n",
        "\n",
        "plt.legend()\n",
        "plt.show()"
      ],
      "execution_count": null,
      "outputs": [
        {
          "data": {
            "image/png": "[encoded data removed]",
            "text/plain": [
              "<Figure size 1080x360 with 1 Axes>"
            ]
          },
          "metadata": {},
          "output_type": "display_data"
        }
      ]
    },
    {
      "cell_type": "markdown",
      "metadata": {
        "id": "gYy4MlHoMxM4"
      },
      "source": [
        "---\n",
        "**Bowlers with most wickets**"
      ]
    },
    {
      "cell_type": "code",
      "metadata": {
        "colab": {
          "background_save": true,
          "base_uri": "https://localhost:8080/"
        },
        "id": "taoUglClO3OR",
        "outputId": "688636d8-ebe9-4bfa-ded2-2b04456a7662"
      },
      "source": [
        "delivery_df['dismissal_kind'].unique()"
      ],
      "execution_count": null,
      "outputs": [
        {
          "data": {
            "text/plain": [
              "array([nan, 'caught', 'bowled', 'run out', 'lbw', 'caught and bowled',\n",
              "       'stumped', 'retired hurt', 'hit wicket', 'obstructing the field'],\n",
              "      dtype=object)"
            ]
          },
          "execution_count": null,
          "metadata": {},
          "output_type": "execute_result"
        }
      ]
    },
    {
      "cell_type": "code",
      "metadata": {
        "colab": {
          "background_save": true,
          "base_uri": "https://localhost:8080/",
          "height": 419
        },
        "id": "3O0pDz-HM2eN",
        "outputId": "4fab3c99-97be-4976-cbc3-e31af04ba0cd"
      },
      "source": [
        "wicket = delivery_df.apply(lambda x: 1 if x['dismissal_kind'] not in ['run out', 'retired hurt','obstructing the field'] and not pd.isna(x['dismissal_kind']) else 0 , axis = 1)\n",
        "\n",
        "df = delivery_df;\n",
        "df ['wicket'] = wicket\n",
        "df[['dismissal_kind','wicket']]\n"
      ],
      "execution_count": null,
      "outputs": [
        {
          "data": {
            "text/html": [
              "<div>\n",
              "<style scoped>\n",
              "    .dataframe tbody tr th:only-of-type {\n",
              "        vertical-align: middle;\n",
              "    }\n",
              "\n",
              "    .dataframe tbody tr th {\n",
              "        vertical-align: top;\n",
              "    }\n",
              "\n",
              "    .dataframe thead th {\n",
              "        text-align: right;\n",
              "    }\n",
              "</style>\n",
              "<table border=\"1\" class=\"dataframe\">\n",
              "  <thead>\n",
              "    <tr style=\"text-align: right;\">\n",
              "      <th></th>\n",
              "      <th>dismissal_kind</th>\n",
              "      <th>wicket</th>\n",
              "    </tr>\n",
              "  </thead>\n",
              "  <tbody>\n",
              "    <tr>\n",
              "      <th>0</th>\n",
              "      <td>NaN</td>\n",
              "      <td>0</td>\n",
              "    </tr>\n",
              "    <tr>\n",
              "      <th>1</th>\n",
              "      <td>NaN</td>\n",
              "      <td>0</td>\n",
              "    </tr>\n",
              "    <tr>\n",
              "      <th>2</th>\n",
              "      <td>NaN</td>\n",
              "      <td>0</td>\n",
              "    </tr>\n",
              "    <tr>\n",
              "      <th>3</th>\n",
              "      <td>NaN</td>\n",
              "      <td>0</td>\n",
              "    </tr>\n",
              "    <tr>\n",
              "      <th>4</th>\n",
              "      <td>NaN</td>\n",
              "      <td>0</td>\n",
              "    </tr>\n",
              "    <tr>\n",
              "      <th>...</th>\n",
              "      <td>...</td>\n",
              "      <td>...</td>\n",
              "    </tr>\n",
              "    <tr>\n",
              "      <th>179073</th>\n",
              "      <td>NaN</td>\n",
              "      <td>0</td>\n",
              "    </tr>\n",
              "    <tr>\n",
              "      <th>179074</th>\n",
              "      <td>NaN</td>\n",
              "      <td>0</td>\n",
              "    </tr>\n",
              "    <tr>\n",
              "      <th>179075</th>\n",
              "      <td>run out</td>\n",
              "      <td>0</td>\n",
              "    </tr>\n",
              "    <tr>\n",
              "      <th>179076</th>\n",
              "      <td>NaN</td>\n",
              "      <td>0</td>\n",
              "    </tr>\n",
              "    <tr>\n",
              "      <th>179077</th>\n",
              "      <td>lbw</td>\n",
              "      <td>1</td>\n",
              "    </tr>\n",
              "  </tbody>\n",
              "</table>\n",
              "<p>179078 rows × 2 columns</p>\n",
              "</div>"
            ],
            "text/plain": [
              "       dismissal_kind  wicket\n",
              "0                 NaN       0\n",
              "1                 NaN       0\n",
              "2                 NaN       0\n",
              "3                 NaN       0\n",
              "4                 NaN       0\n",
              "...               ...     ...\n",
              "179073            NaN       0\n",
              "179074            NaN       0\n",
              "179075        run out       0\n",
              "179076            NaN       0\n",
              "179077            lbw       1\n",
              "\n",
              "[179078 rows x 2 columns]"
            ]
          },
          "execution_count": null,
          "metadata": {},
          "output_type": "execute_result"
        }
      ]
    },
    {
      "cell_type": "code",
      "metadata": {
        "colab": {
          "background_save": true,
          "base_uri": "https://localhost:8080/",
          "height": 309
        },
        "id": "C9wk8p1wkIGI",
        "outputId": "0e51f301-ea6d-4054-c1f6-8274c389c2ad"
      },
      "source": [
        "bowler = df.groupby('bowler')['wicket'].sum().sort_values(ascending=False)[:10]\n",
        "\n",
        "fig, ax = plt.subplots(figsize = (20.0, 7.0))\n",
        "ax.set_ylim([0,200])\n",
        "ax.set_title(\"Bowlers with most Wickets\", fontsize=20, fontweight='bold')\n",
        "sns.barplot(x = bowler.index, y = bowler, orient='v')\n",
        "plt.xlabel(\"Bowlers\", fontsize=20, fontweight='bold')\n",
        "plt.ylabel(\"Wickets\", fontsize=20, fontweight='bold')\n",
        "plt.xticks(size=16)\n",
        "plt.yticks(size=16)\n",
        "for t in ax.patches:\n",
        "    ax.text(t.get_x()+0.2,t.get_height()+0.01, int(t.get_height()), fontsize = 16, fontweight = 'bold')\n",
        "plt.show()"
      ],
      "execution_count": null,
      "outputs": [
        {
          "data": {
            "image/png": "[encoded data removed]",
            "text/plain": [
              "<Figure size 1440x504 with 1 Axes>"
            ]
          },
          "metadata": {},
          "output_type": "display_data"
        }
      ]
    },
    {
      "cell_type": "markdown",
      "metadata": {
        "id": "0ihrX_gbprKg"
      },
      "source": [
        "---\n",
        "**Batsman got out most number of time**"
      ]
    },
    {
      "cell_type": "code",
      "metadata": {
        "colab": {
          "background_save": true,
          "base_uri": "https://localhost:8080/",
          "height": 309
        },
        "id": "ghNOzicgpqPf",
        "outputId": "be7e6aeb-9478-4e47-9f44-3a21373f53ae"
      },
      "source": [
        "batsman = df['player_dismissed'].value_counts().sort_values(ascending=False)[:10]\n",
        "\n",
        "fig, ax = plt.subplots(figsize = (20.0, 7.0))\n",
        "ax.set_ylim([0,200])\n",
        "ax.set_title(\"Batsman got out most number of time\", fontsize=20, fontweight='bold')\n",
        "sns.barplot(x = batsman.index, y = batsman, orient='v')\n",
        "plt.xlabel(\"Batsman\", fontsize=20, fontweight='bold')\n",
        "plt.ylabel(\"No of Dismissal\", fontsize=20, fontweight='bold')\n",
        "plt.xticks(size=16)\n",
        "plt.yticks(size=16)\n",
        "for t in ax.patches:\n",
        "    ax.text(t.get_x()+0.2,t.get_height()+0.01, int(t.get_height()), fontsize = 16, fontweight = 'bold')\n",
        "plt.show()"
      ],
      "execution_count": null,
      "outputs": [
        {
          "data": {
            "image/png": "[encoded data removed]",
            "text/plain": [
              "<Figure size 1440x504 with 1 Axes>"
            ]
          },
          "metadata": {},
          "output_type": "display_data"
        }
      ]
    },
    {
      "cell_type": "markdown",
      "metadata": {
        "id": "57dfXAcHnTVO"
      },
      "source": [
        "---\n",
        "**Bowler with most number of Dissmisals of same Batsman**"
      ]
    },
    {
      "cell_type": "code",
      "metadata": {
        "colab": {
          "background_save": true,
          "base_uri": "https://localhost:8080/"
        },
        "id": "fgYY1K7bnFnY",
        "outputId": "910698c3-693c-4ad4-a52a-83a2116535d8"
      },
      "source": [
        "bowler = df.groupby('bowler')['player_dismissed'].value_counts().sort_values(ascending=False)[:10]\n",
        "bowler"
      ],
      "execution_count": null,
      "outputs": [
        {
          "data": {
            "text/plain": [
              "bowler         player_dismissed\n",
              "Z Khan         MS Dhoni            7\n",
              "PP Ojha        MS Dhoni            7\n",
              "R Vinay Kumar  RG Sharma           6\n",
              "B Kumar        AM Rahane           6\n",
              "MM Sharma      AT Rayudu           6\n",
              "A Mishra       RG Sharma           6\n",
              "A Nehra        V Kohli             6\n",
              "SP Narine      RG Sharma           6\n",
              "PP Chawla      AT Rayudu           6\n",
              "R Ashwin       RV Uthappa          6\n",
              "Name: player_dismissed, dtype: int64"
            ]
          },
          "execution_count": null,
          "metadata": {},
          "output_type": "execute_result"
        }
      ]
    },
    {
      "cell_type": "markdown",
      "metadata": {
        "id": "74yO5ILaqsT3"
      },
      "source": [
        "---\n",
        "**Fielder involve most number of time in a Dismissal**"
      ]
    },
    {
      "cell_type": "code",
      "metadata": {
        "colab": {
          "background_save": true,
          "base_uri": "https://localhost:8080/",
          "height": 309
        },
        "id": "h5zXQNc4qr2j",
        "outputId": "b71b5219-d586-4f29-d564-08e0d4229c13"
      },
      "source": [
        "fielder = delivery_df['fielder'].value_counts().sort_values(ascending=False)[:10]\n",
        "\n",
        "fig, ax = plt.subplots(figsize = (20.0, 7.0))\n",
        "ax.set_ylim([0,200])\n",
        "ax.set_title(\"Fielder in Dismissals\", fontsize=20, fontweight='bold')\n",
        "sns.barplot(x = fielder.index, y = fielder, orient='v')\n",
        "plt.xlabel(\"fielder\", fontsize=20, fontweight='bold')\n",
        "plt.ylabel(\"No of Dismissal\", fontsize=20, fontweight='bold')\n",
        "plt.xticks(size=16)\n",
        "plt.yticks(size=16)\n",
        "for t in ax.patches:\n",
        "    ax.text(t.get_x()+0.2,t.get_height()+0.01, int(t.get_height()), fontsize = 16, fontweight = 'bold')\n",
        "plt.show()"
      ],
      "execution_count": null,
      "outputs": [
        {
          "data": {
            "image/png": "[encoded data removed]",
            "text/plain": [
              "<Figure size 1440x504 with 1 Axes>"
            ]
          },
          "metadata": {},
          "output_type": "display_data"
        }
      ]
    },
    {
      "cell_type": "markdown",
      "metadata": {
        "id": "AQxEdmnfrc36"
      },
      "source": [
        ""
      ]
    },
    {
      "cell_type": "markdown",
      "metadata": {
        "id": "JlJq6lDrtdjn"
      },
      "source": [
        "---\n",
        "**Player with most numbers of MoM awards**"
      ]
    },
    {
      "cell_type": "code",
      "metadata": {
        "colab": {
          "base_uri": "https://localhost:8080/",
          "height": 641
        },
        "id": "eST8W5k5h2Av",
        "outputId": "53c245c5-2d06-4fbc-83ae-04d5bd3f3076"
      },
      "source": [
        "top_players = match_df.player_of_match.value_counts()[:10]\n",
        "print(top_players)\n",
        "\n",
        "fig, ax = plt.subplots(figsize = (20.0, 7.0))\n",
        "ax.set_ylim([0,25])\n",
        "ax.set_title(\"Most player of the Match Winners\", fontsize=20, fontweight='bold')\n",
        "sns.barplot(x = top_players.index, y = top_players, orient='v')\n",
        "plt.xticks(size=16)\n",
        "plt.yticks(size=16)\n",
        "for t in ax.patches:\n",
        "    ax.text(t.get_x()+0.3,t.get_height()+0.3, int(t.get_height()), fontsize = 16, fontweight = 'bold')\n",
        "plt.show()"
      ],
      "execution_count": null,
      "outputs": [
        {
          "output_type": "stream",
          "text": [
            "CH Gayle          21\n",
            "AB de Villiers    20\n",
            "DA Warner         17\n",
            "RG Sharma         17\n",
            "MS Dhoni          17\n",
            "YK Pathan         16\n",
            "SR Watson         15\n",
            "SK Raina          14\n",
            "G Gambhir         13\n",
            "MEK Hussey        12\n",
            "Name: player_of_match, dtype: int64\n"
          ],
          "name": "stdout"
        },
        {
          "output_type": "display_data",
          "data": {
            "image/png": "[encoded data removed]",
            "text/plain": [
              "<Figure size 1440x504 with 1 Axes>"
            ]
          },
          "metadata": {
            "needs_background": "light"
          }
        }
      ]
    }
  ]
}